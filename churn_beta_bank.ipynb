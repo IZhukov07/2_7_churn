{
 "cells": [
  {
   "cell_type": "markdown",
   "metadata": {
    "toc": true
   },
   "source": [
    "<h1>Содержание<span class=\"tocSkip\"></span></h1>\n",
    "</font></a></span></li></ul></li><li><span><a href=\"#Подготовка-данных\" data-toc-modified-id=\"Подготовка-данных-1\"><span class=\"toc-item-num\">1&nbsp;&nbsp;</span>Подготовка данных</a></span><ul class=\"toc-item\"><li><span><a href=\"#Базовые-проверки-данных\" data-toc-modified-id=\"Базовые-проверки-данных-1.1\"><span class=\"toc-item-num\">1.1&nbsp;&nbsp;</span>Базовые проверки данных</a></span></li><li><span><a href=\"#Подготовка-к-обучению-моделей\" data-toc-modified-id=\"Подготовка-к-обучению-моделей-1.2\"><span class=\"toc-item-num\">1.2&nbsp;&nbsp;</span>Подготовка к обучению моделей</a></span></li></ul></li><li><span><a href=\"#Исследование-задачи\" data-toc-modified-id=\"Исследование-задачи-2\"><span class=\"toc-item-num\">2&nbsp;&nbsp;</span>Исследование задачи</a></span><ul class=\"toc-item\"><li><span><a href=\"#Логистическая-регрессия\" data-toc-modified-id=\"Логистическая-регрессия-2.1\"><span class=\"toc-item-num\">2.1&nbsp;&nbsp;</span><strong>Логистическая регрессия</strong></a></span></li><li><span><a href=\"#Решающее-дерево\" data-toc-modified-id=\"Решающее-дерево-2.2\"><span class=\"toc-item-num\">2.2&nbsp;&nbsp;</span>Решающее дерево</a></span></li><li><span><a href=\"#Случайный-лес\" data-toc-modified-id=\"Случайный-лес-2.3\"><span class=\"toc-item-num\">2.3&nbsp;&nbsp;</span>Случайный лес</a></span></li></ul></li><li><span><a href=\"#Борьба-с-дисбалансом\" data-toc-modified-id=\"Борьба-с-дисбалансом-3\"><span class=\"toc-item-num\">3&nbsp;&nbsp;</span>Борьба с дисбалансом</a></span></li><li><span><a href=\"#Тестирование-модели\" data-toc-modified-id=\"Тестирование-модели-4\"><span class=\"toc-item-num\">4&nbsp;&nbsp;</span>Тестирование модели</a></span><ul class=\"toc-item\"><li><span><a href=\"#Обучение-моделей-и-поиск-лучших-гиперпараметров\" data-toc-modified-id=\"Обучение-моделей-и-поиск-лучших-гиперпараметров-4.1\"><span class=\"toc-item-num\">4.1&nbsp;&nbsp;</span>Обучение моделей и поиск лучших гиперпараметров</a></span><ul class=\"toc-item\"><li><span><a href=\"#Логистическая-регрессия\" data-toc-modified-id=\"Логистическая-регрессия-4.1.1\"><span class=\"toc-item-num\">4.1.1&nbsp;&nbsp;</span><strong>Логистическая регрессия</strong></a></span></li><li><span><a href=\"#Решающее-дерево\" data-toc-modified-id=\"Решающее-дерево-4.1.2\"><span class=\"toc-item-num\">4.1.2&nbsp;&nbsp;</span>Решающее дерево</a></span></li><li><span><a href=\"#Случайный-лес\" data-toc-modified-id=\"Случайный-лес-4.1.3\"><span class=\"toc-item-num\">4.1.3&nbsp;&nbsp;</span>Случайный лес</a></span></li></ul></li><li><span><a href=\"#Проверяем-модели-на-тестовой-выборке\" data-toc-modified-id=\"Проверяем-модели-на-тестовой-выборке-4.2\"><span class=\"toc-item-num\">4.2&nbsp;&nbsp;</span>Проверяем модели на тестовой выборке</a></span><ul class=\"toc-item\"><li><span><a href=\"#Логистическая-регрессия\" data-toc-modified-id=\"Логистическая-регрессия-4.2.1\"><span class=\"toc-item-num\">4.2.1&nbsp;&nbsp;</span><strong>Логистическая регрессия</strong></a></span></li><li><span><a href=\"#Решающее-дерево\" data-toc-modified-id=\"Решающее-дерево-4.2.2\"><span class=\"toc-item-num\">4.2.2&nbsp;&nbsp;</span><strong>Решающее дерево</strong></a></span></li><li><span><a href=\"#Случайный-лес\" data-toc-modified-id=\"Случайный-лес-4.2.3\"><span class=\"toc-item-num\">4.2.3&nbsp;&nbsp;</span>Случайный лес</a></span></li><li><span><a href=\"#Агрегация-результата\" data-toc-modified-id=\"Агрегация-результата-4.2.4\"><span class=\"toc-item-num\">4.2.4&nbsp;&nbsp;</span>Агрегация результата</a></span></li><li><span><a href=\"#Метрика-AUC-ROC\" data-toc-modified-id=\"Метрика-AUC-ROC-4.2.5\"><span class=\"toc-item-num\">4.2.5&nbsp;&nbsp;</span>Метрика AUC-ROC</a></span></li></ul></li></ul></li><li><span><a href=\"#Чек-лист-готовности-проекта\" data-toc-modified-id=\"Чек-лист-готовности-проекта-5\"><span class=\"toc-item-num\">5&nbsp;&nbsp;</span>Чек-лист готовности проекта</a></span></li></ul></div>"
   ]
  },
  {
   "cell_type": "markdown",
   "metadata": {},
   "source": [
    "# Отток клиентов"
   ]
  },
  {
   "cell_type": "markdown",
   "metadata": {},
   "source": [
    "Из «Бета-Банка» стали уходить клиенты. Каждый месяц. Немного, но заметно. Банковские маркетологи посчитали: сохранять текущих клиентов дешевле, чем привлекать новых.\n",
    "\n",
    "Нужно спрогнозировать, уйдёт клиент из банка в ближайшее время или нет. Вам предоставлены исторические данные о поведении клиентов и расторжении договоров с банком. \n",
    "\n",
    "Постройте модель с предельно большим значением *F1*-меры. Чтобы сдать проект успешно, нужно довести метрику до 0.59. Проверьте *F1*-меру на тестовой выборке самостоятельно.\n",
    "\n",
    "Дополнительно измеряйте *AUC-ROC*, сравнивайте её значение с *F1*-мерой.\n",
    "\n",
    "Источник данных: [https://www.kaggle.com/barelydedicated/bank-customer-churn-modeling](https://www.kaggle.com/barelydedicated/bank-customer-churn-modeling)"
   ]
  },
  {
   "cell_type": "markdown",
   "metadata": {},
   "source": [
    "**Описание даннных**\n",
    "\n",
    "**Признаки**\n",
    "\n",
    "`RowNumber` — индекс строки в данных  \n",
    "`CustomerId` — уникальный идентификатор клиента  \n",
    "`Surname` — фамилия  \n",
    "`CreditScore` — кредитный рейтинг  \n",
    "`Geography` — страна проживания  \n",
    "`Gender` — пол  \n",
    "`Age` — возраст  \n",
    "`Tenure` — сколько лет человек является клиентом банка  \n",
    "`Balance` — баланс на счёте  \n",
    "`NumOfProducts` — количество продуктов банка, используемых клиентом  \n",
    "`HasCrCard` — наличие кредитной карты  \n",
    "`IsActiveMember` — активность клиента  \n",
    "`EstimatedSalary` — предполагаемая зарплата\n",
    "\n",
    "**Целевой признак**\n",
    "\n",
    "`Exited` — факт ухода клиента"
   ]
  },
  {
   "cell_type": "markdown",
   "metadata": {},
   "source": [
    "## Подготовка данных"
   ]
  },
  {
   "cell_type": "markdown",
   "metadata": {},
   "source": [
    "Импотртируем всё, что понадобится в проекте:"
   ]
  },
  {
   "cell_type": "code",
   "execution_count": 1,
   "metadata": {},
   "outputs": [],
   "source": [
    "import pandas as pd\n",
    "import numpy as np\n",
    "import matplotlib.pyplot as plt\n",
    "import seaborn as sns\n",
    "\n",
    "from sklearn.preprocessing import StandardScaler \n",
    "from sklearn.model_selection import train_test_split\n",
    "\n",
    "from sklearn.linear_model import LogisticRegression\n",
    "from sklearn.tree import DecisionTreeClassifier\n",
    "from sklearn.ensemble import RandomForestClassifier\n",
    "from sklearn.utils import shuffle\n",
    "\n",
    "from sklearn.metrics import accuracy_score\n",
    "from sklearn.metrics import f1_score\n",
    "from sklearn.metrics import roc_curve\n",
    "from sklearn.metrics import roc_auc_score\n"
   ]
  },
  {
   "cell_type": "markdown",
   "metadata": {},
   "source": [
    "### Базовые проверки данных"
   ]
  },
  {
   "cell_type": "markdown",
   "metadata": {},
   "source": [
    "Считаем файл и посмотрим на наши даннные"
   ]
  },
  {
   "cell_type": "code",
   "execution_count": 2,
   "metadata": {},
   "outputs": [],
   "source": [
    "df = pd.read_csv('/datasets/Churn.csv')"
   ]
  },
  {
   "cell_type": "code",
   "execution_count": 3,
   "metadata": {},
   "outputs": [
    {
     "data": {
      "text/html": [
       "<div>\n",
       "<style scoped>\n",
       "    .dataframe tbody tr th:only-of-type {\n",
       "        vertical-align: middle;\n",
       "    }\n",
       "\n",
       "    .dataframe tbody tr th {\n",
       "        vertical-align: top;\n",
       "    }\n",
       "\n",
       "    .dataframe thead th {\n",
       "        text-align: right;\n",
       "    }\n",
       "</style>\n",
       "<table border=\"1\" class=\"dataframe\">\n",
       "  <thead>\n",
       "    <tr style=\"text-align: right;\">\n",
       "      <th></th>\n",
       "      <th>RowNumber</th>\n",
       "      <th>CustomerId</th>\n",
       "      <th>Surname</th>\n",
       "      <th>CreditScore</th>\n",
       "      <th>Geography</th>\n",
       "      <th>Gender</th>\n",
       "      <th>Age</th>\n",
       "      <th>Tenure</th>\n",
       "      <th>Balance</th>\n",
       "      <th>NumOfProducts</th>\n",
       "      <th>HasCrCard</th>\n",
       "      <th>IsActiveMember</th>\n",
       "      <th>EstimatedSalary</th>\n",
       "      <th>Exited</th>\n",
       "    </tr>\n",
       "  </thead>\n",
       "  <tbody>\n",
       "    <tr>\n",
       "      <td>0</td>\n",
       "      <td>1</td>\n",
       "      <td>15634602</td>\n",
       "      <td>Hargrave</td>\n",
       "      <td>619</td>\n",
       "      <td>France</td>\n",
       "      <td>Female</td>\n",
       "      <td>42</td>\n",
       "      <td>2.0</td>\n",
       "      <td>0.00</td>\n",
       "      <td>1</td>\n",
       "      <td>1</td>\n",
       "      <td>1</td>\n",
       "      <td>101348.88</td>\n",
       "      <td>1</td>\n",
       "    </tr>\n",
       "    <tr>\n",
       "      <td>1</td>\n",
       "      <td>2</td>\n",
       "      <td>15647311</td>\n",
       "      <td>Hill</td>\n",
       "      <td>608</td>\n",
       "      <td>Spain</td>\n",
       "      <td>Female</td>\n",
       "      <td>41</td>\n",
       "      <td>1.0</td>\n",
       "      <td>83807.86</td>\n",
       "      <td>1</td>\n",
       "      <td>0</td>\n",
       "      <td>1</td>\n",
       "      <td>112542.58</td>\n",
       "      <td>0</td>\n",
       "    </tr>\n",
       "    <tr>\n",
       "      <td>2</td>\n",
       "      <td>3</td>\n",
       "      <td>15619304</td>\n",
       "      <td>Onio</td>\n",
       "      <td>502</td>\n",
       "      <td>France</td>\n",
       "      <td>Female</td>\n",
       "      <td>42</td>\n",
       "      <td>8.0</td>\n",
       "      <td>159660.80</td>\n",
       "      <td>3</td>\n",
       "      <td>1</td>\n",
       "      <td>0</td>\n",
       "      <td>113931.57</td>\n",
       "      <td>1</td>\n",
       "    </tr>\n",
       "  </tbody>\n",
       "</table>\n",
       "</div>"
      ],
      "text/plain": [
       "   RowNumber  CustomerId   Surname  CreditScore Geography  Gender  Age  \\\n",
       "0          1    15634602  Hargrave          619    France  Female   42   \n",
       "1          2    15647311      Hill          608     Spain  Female   41   \n",
       "2          3    15619304      Onio          502    France  Female   42   \n",
       "\n",
       "   Tenure    Balance  NumOfProducts  HasCrCard  IsActiveMember  \\\n",
       "0     2.0       0.00              1          1               1   \n",
       "1     1.0   83807.86              1          0               1   \n",
       "2     8.0  159660.80              3          1               0   \n",
       "\n",
       "   EstimatedSalary  Exited  \n",
       "0        101348.88       1  \n",
       "1        112542.58       0  \n",
       "2        113931.57       1  "
      ]
     },
     "execution_count": 3,
     "metadata": {},
     "output_type": "execute_result"
    }
   ],
   "source": [
    "df.head(3)"
   ]
  },
  {
   "cell_type": "code",
   "execution_count": 4,
   "metadata": {},
   "outputs": [
    {
     "name": "stdout",
     "output_type": "stream",
     "text": [
      "<class 'pandas.core.frame.DataFrame'>\n",
      "RangeIndex: 10000 entries, 0 to 9999\n",
      "Data columns (total 14 columns):\n",
      "RowNumber          10000 non-null int64\n",
      "CustomerId         10000 non-null int64\n",
      "Surname            10000 non-null object\n",
      "CreditScore        10000 non-null int64\n",
      "Geography          10000 non-null object\n",
      "Gender             10000 non-null object\n",
      "Age                10000 non-null int64\n",
      "Tenure             9091 non-null float64\n",
      "Balance            10000 non-null float64\n",
      "NumOfProducts      10000 non-null int64\n",
      "HasCrCard          10000 non-null int64\n",
      "IsActiveMember     10000 non-null int64\n",
      "EstimatedSalary    10000 non-null float64\n",
      "Exited             10000 non-null int64\n",
      "dtypes: float64(3), int64(8), object(3)\n",
      "memory usage: 1.1+ MB\n"
     ]
    }
   ],
   "source": [
    "df.info()"
   ]
  },
  {
   "cell_type": "markdown",
   "metadata": {},
   "source": [
    "**Описание признаков:**\n",
    "* в нашем датасете **14 полей**:\n",
    "    * **3 поля** - категориальные\n",
    "    * **11 поля** - числовые из них:\n",
    "        * **3 поля** - вещественные \n",
    "        * **8 поле** - целочисленное\n",
    "* есть пропуски в столбце `Tenure` - 909 значений "
   ]
  },
  {
   "cell_type": "markdown",
   "metadata": {},
   "source": [
    "Сразу проверим на наличие явных дубликатов (их нет)"
   ]
  },
  {
   "cell_type": "code",
   "execution_count": 5,
   "metadata": {},
   "outputs": [
    {
     "data": {
      "text/html": [
       "<div>\n",
       "<style scoped>\n",
       "    .dataframe tbody tr th:only-of-type {\n",
       "        vertical-align: middle;\n",
       "    }\n",
       "\n",
       "    .dataframe tbody tr th {\n",
       "        vertical-align: top;\n",
       "    }\n",
       "\n",
       "    .dataframe thead th {\n",
       "        text-align: right;\n",
       "    }\n",
       "</style>\n",
       "<table border=\"1\" class=\"dataframe\">\n",
       "  <thead>\n",
       "    <tr style=\"text-align: right;\">\n",
       "      <th></th>\n",
       "      <th>RowNumber</th>\n",
       "      <th>CustomerId</th>\n",
       "      <th>Surname</th>\n",
       "      <th>CreditScore</th>\n",
       "      <th>Geography</th>\n",
       "      <th>Gender</th>\n",
       "      <th>Age</th>\n",
       "      <th>Tenure</th>\n",
       "      <th>Balance</th>\n",
       "      <th>NumOfProducts</th>\n",
       "      <th>HasCrCard</th>\n",
       "      <th>IsActiveMember</th>\n",
       "      <th>EstimatedSalary</th>\n",
       "      <th>Exited</th>\n",
       "    </tr>\n",
       "  </thead>\n",
       "  <tbody>\n",
       "  </tbody>\n",
       "</table>\n",
       "</div>"
      ],
      "text/plain": [
       "Empty DataFrame\n",
       "Columns: [RowNumber, CustomerId, Surname, CreditScore, Geography, Gender, Age, Tenure, Balance, NumOfProducts, HasCrCard, IsActiveMember, EstimatedSalary, Exited]\n",
       "Index: []"
      ]
     },
     "execution_count": 5,
     "metadata": {},
     "output_type": "execute_result"
    }
   ],
   "source": [
    "df[df.duplicated()]"
   ]
  },
  {
   "cell_type": "markdown",
   "metadata": {},
   "source": [
    "**Важный момент перед построением моделей и дальнейшими исследованиями:**\n",
    "\n",
    "В датасете есть признаки, которые на первый взгляд, абсолютно не нужно использовать при построении модели.\n",
    "\n",
    "* `RowNumber`\n",
    "* `CustomerId`\n",
    "* `Surname`\n",
    "\n",
    "**Абсурдный пример**\n",
    "\n",
    "Невозможно представить ситуацию чтобы:  \n",
    "Все Ивановы/клиенты с ИД кратным 25/клиенты с индексом строки кратным 15 были более склонны к оттоку\n",
    "\n",
    "Уберем эти столбцы из данных"
   ]
  },
  {
   "cell_type": "code",
   "execution_count": 6,
   "metadata": {},
   "outputs": [],
   "source": [
    "df = df.drop([\"RowNumber\",\"CustomerId\",\"Surname\"], axis = 1)"
   ]
  },
  {
   "cell_type": "markdown",
   "metadata": {},
   "source": [
    "<div class=\"alert alert-block alert-success\">\n",
    "<b>Успех:</b> Согласен, что эти колонки нам не нужны.\n",
    "</div>"
   ]
  },
  {
   "cell_type": "markdown",
   "metadata": {},
   "source": [
    "**Пропуски в столбце `Tenure`**"
   ]
  },
  {
   "cell_type": "code",
   "execution_count": 7,
   "metadata": {},
   "outputs": [
    {
     "data": {
      "text/plain": [
       "1.0     0.0952\n",
       "2.0     0.0950\n",
       "8.0     0.0933\n",
       "3.0     0.0928\n",
       "5.0     0.0927\n",
       "7.0     0.0925\n",
       "NaN     0.0909\n",
       "4.0     0.0885\n",
       "9.0     0.0882\n",
       "6.0     0.0881\n",
       "10.0    0.0446\n",
       "0.0     0.0382\n",
       "Name: Tenure, dtype: float64"
      ]
     },
     "execution_count": 7,
     "metadata": {},
     "output_type": "execute_result"
    }
   ],
   "source": [
    "df['Tenure'].value_counts(normalize=True, dropna = False)"
   ]
  },
  {
   "cell_type": "markdown",
   "metadata": {},
   "source": [
    "**Возможная причина пропуска в данных**\n",
    "\n",
    "Речь идет о клиентах банка и незаполненном поле о количестве объектов недвижимости.  \n",
    "\n",
    "**Два возможных сценария:**\n",
    "* это тенхическая ошибка и на самом деле пропуски означают отсутсвие недвижимости (надо заполнить пропуски 0)\n",
    "* это какая-то другая ситуация (удалить или заменить значения в строках)\n",
    "\n",
    "**Есть ли ситуации, когда банк может не владеть данной информацией?**\n",
    "\n",
    "Канечно может. В ситуации, когда клиент никогда не подавал заявку на кредит и, как следствие, не подтверждал таким образом свою платежеспособность + он не использует премиальное обслживание и является только держателем дебитовой карты.\n",
    "\n",
    "Предлагаю удалить незаполненные строки, поскольку их количество не выглядит большим."
   ]
  },
  {
   "cell_type": "code",
   "execution_count": 8,
   "metadata": {},
   "outputs": [],
   "source": [
    "df = df.dropna()"
   ]
  },
  {
   "cell_type": "markdown",
   "metadata": {},
   "source": [
    "**Также посмотрим базовые статистические характеристики по оставшимся столбцам**"
   ]
  },
  {
   "cell_type": "code",
   "execution_count": 9,
   "metadata": {},
   "outputs": [
    {
     "data": {
      "text/html": [
       "<div>\n",
       "<style scoped>\n",
       "    .dataframe tbody tr th:only-of-type {\n",
       "        vertical-align: middle;\n",
       "    }\n",
       "\n",
       "    .dataframe tbody tr th {\n",
       "        vertical-align: top;\n",
       "    }\n",
       "\n",
       "    .dataframe thead th {\n",
       "        text-align: right;\n",
       "    }\n",
       "</style>\n",
       "<table border=\"1\" class=\"dataframe\">\n",
       "  <thead>\n",
       "    <tr style=\"text-align: right;\">\n",
       "      <th></th>\n",
       "      <th>count</th>\n",
       "      <th>mean</th>\n",
       "      <th>std</th>\n",
       "      <th>min</th>\n",
       "      <th>25%</th>\n",
       "      <th>50%</th>\n",
       "      <th>75%</th>\n",
       "      <th>max</th>\n",
       "    </tr>\n",
       "  </thead>\n",
       "  <tbody>\n",
       "    <tr>\n",
       "      <td>CreditScore</td>\n",
       "      <td>9091.0</td>\n",
       "      <td>650.736553</td>\n",
       "      <td>96.410471</td>\n",
       "      <td>350.00</td>\n",
       "      <td>584.000</td>\n",
       "      <td>652.00</td>\n",
       "      <td>717.00</td>\n",
       "      <td>850.00</td>\n",
       "    </tr>\n",
       "    <tr>\n",
       "      <td>Age</td>\n",
       "      <td>9091.0</td>\n",
       "      <td>38.949181</td>\n",
       "      <td>10.555581</td>\n",
       "      <td>18.00</td>\n",
       "      <td>32.000</td>\n",
       "      <td>37.00</td>\n",
       "      <td>44.00</td>\n",
       "      <td>92.00</td>\n",
       "    </tr>\n",
       "    <tr>\n",
       "      <td>Tenure</td>\n",
       "      <td>9091.0</td>\n",
       "      <td>4.997690</td>\n",
       "      <td>2.894723</td>\n",
       "      <td>0.00</td>\n",
       "      <td>2.000</td>\n",
       "      <td>5.00</td>\n",
       "      <td>7.00</td>\n",
       "      <td>10.00</td>\n",
       "    </tr>\n",
       "    <tr>\n",
       "      <td>Balance</td>\n",
       "      <td>9091.0</td>\n",
       "      <td>76522.740015</td>\n",
       "      <td>62329.528576</td>\n",
       "      <td>0.00</td>\n",
       "      <td>0.000</td>\n",
       "      <td>97318.25</td>\n",
       "      <td>127561.89</td>\n",
       "      <td>250898.09</td>\n",
       "    </tr>\n",
       "    <tr>\n",
       "      <td>NumOfProducts</td>\n",
       "      <td>9091.0</td>\n",
       "      <td>1.530195</td>\n",
       "      <td>0.581003</td>\n",
       "      <td>1.00</td>\n",
       "      <td>1.000</td>\n",
       "      <td>1.00</td>\n",
       "      <td>2.00</td>\n",
       "      <td>4.00</td>\n",
       "    </tr>\n",
       "    <tr>\n",
       "      <td>HasCrCard</td>\n",
       "      <td>9091.0</td>\n",
       "      <td>0.704983</td>\n",
       "      <td>0.456076</td>\n",
       "      <td>0.00</td>\n",
       "      <td>0.000</td>\n",
       "      <td>1.00</td>\n",
       "      <td>1.00</td>\n",
       "      <td>1.00</td>\n",
       "    </tr>\n",
       "    <tr>\n",
       "      <td>IsActiveMember</td>\n",
       "      <td>9091.0</td>\n",
       "      <td>0.515565</td>\n",
       "      <td>0.499785</td>\n",
       "      <td>0.00</td>\n",
       "      <td>0.000</td>\n",
       "      <td>1.00</td>\n",
       "      <td>1.00</td>\n",
       "      <td>1.00</td>\n",
       "    </tr>\n",
       "    <tr>\n",
       "      <td>EstimatedSalary</td>\n",
       "      <td>9091.0</td>\n",
       "      <td>100181.214924</td>\n",
       "      <td>57624.755647</td>\n",
       "      <td>11.58</td>\n",
       "      <td>51227.745</td>\n",
       "      <td>100240.20</td>\n",
       "      <td>149567.21</td>\n",
       "      <td>199992.48</td>\n",
       "    </tr>\n",
       "    <tr>\n",
       "      <td>Exited</td>\n",
       "      <td>9091.0</td>\n",
       "      <td>0.203938</td>\n",
       "      <td>0.402946</td>\n",
       "      <td>0.00</td>\n",
       "      <td>0.000</td>\n",
       "      <td>0.00</td>\n",
       "      <td>0.00</td>\n",
       "      <td>1.00</td>\n",
       "    </tr>\n",
       "  </tbody>\n",
       "</table>\n",
       "</div>"
      ],
      "text/plain": [
       "                  count           mean           std     min        25%  \\\n",
       "CreditScore      9091.0     650.736553     96.410471  350.00    584.000   \n",
       "Age              9091.0      38.949181     10.555581   18.00     32.000   \n",
       "Tenure           9091.0       4.997690      2.894723    0.00      2.000   \n",
       "Balance          9091.0   76522.740015  62329.528576    0.00      0.000   \n",
       "NumOfProducts    9091.0       1.530195      0.581003    1.00      1.000   \n",
       "HasCrCard        9091.0       0.704983      0.456076    0.00      0.000   \n",
       "IsActiveMember   9091.0       0.515565      0.499785    0.00      0.000   \n",
       "EstimatedSalary  9091.0  100181.214924  57624.755647   11.58  51227.745   \n",
       "Exited           9091.0       0.203938      0.402946    0.00      0.000   \n",
       "\n",
       "                       50%        75%        max  \n",
       "CreditScore         652.00     717.00     850.00  \n",
       "Age                  37.00      44.00      92.00  \n",
       "Tenure                5.00       7.00      10.00  \n",
       "Balance           97318.25  127561.89  250898.09  \n",
       "NumOfProducts         1.00       2.00       4.00  \n",
       "HasCrCard             1.00       1.00       1.00  \n",
       "IsActiveMember        1.00       1.00       1.00  \n",
       "EstimatedSalary  100240.20  149567.21  199992.48  \n",
       "Exited                0.00       0.00       1.00  "
      ]
     },
     "execution_count": 9,
     "metadata": {},
     "output_type": "execute_result"
    }
   ],
   "source": [
    "df.describe().T"
   ]
  },
  {
   "cell_type": "markdown",
   "metadata": {},
   "source": [
    "**Оценим мультиколлинеарность признаков**\n",
    "\n",
    "Важно проверить, нет ли сильных взаимосвязей в признаках, может помешать при обучении моделей.\n",
    "\n",
    "Сильных взаимосвязей не обнаружено."
   ]
  },
  {
   "cell_type": "code",
   "execution_count": 10,
   "metadata": {},
   "outputs": [
    {
     "data": {
      "image/png": "[encoded data removed]",
      "text/plain": [
       "<Figure size 576x360 with 2 Axes>"
      ]
     },
     "metadata": {
      "needs_background": "light"
     },
     "output_type": "display_data"
    }
   ],
   "source": [
    "fig, ax = plt.subplots(figsize=(8,5))    \n",
    "\n",
    "sns.heatmap(df.corr(), annot = True,  ax = ax)\n",
    "plt.suptitle(\"Корреляция показателей\")\n",
    "plt.show()"
   ]
  },
  {
   "cell_type": "markdown",
   "metadata": {},
   "source": [
    "### Подготовка к обучению моделей"
   ]
  },
  {
   "cell_type": "markdown",
   "metadata": {},
   "source": [
    "**One-Hot Encoding**\n",
    "\n",
    "Избавляемся от категориальных признаков методом прямым кодированием (берем именно этот метод, а не порядковое кодирование из-за универсальности)"
   ]
  },
  {
   "cell_type": "code",
   "execution_count": 11,
   "metadata": {},
   "outputs": [],
   "source": [
    "df_ohe = pd.get_dummies(df,drop_first=True)"
   ]
  },
  {
   "cell_type": "code",
   "execution_count": 12,
   "metadata": {},
   "outputs": [
    {
     "data": {
      "text/html": [
       "<div>\n",
       "<style scoped>\n",
       "    .dataframe tbody tr th:only-of-type {\n",
       "        vertical-align: middle;\n",
       "    }\n",
       "\n",
       "    .dataframe tbody tr th {\n",
       "        vertical-align: top;\n",
       "    }\n",
       "\n",
       "    .dataframe thead th {\n",
       "        text-align: right;\n",
       "    }\n",
       "</style>\n",
       "<table border=\"1\" class=\"dataframe\">\n",
       "  <thead>\n",
       "    <tr style=\"text-align: right;\">\n",
       "      <th></th>\n",
       "      <th>CreditScore</th>\n",
       "      <th>Age</th>\n",
       "      <th>Tenure</th>\n",
       "      <th>Balance</th>\n",
       "      <th>NumOfProducts</th>\n",
       "      <th>HasCrCard</th>\n",
       "      <th>IsActiveMember</th>\n",
       "      <th>EstimatedSalary</th>\n",
       "      <th>Exited</th>\n",
       "      <th>Geography_Germany</th>\n",
       "      <th>Geography_Spain</th>\n",
       "      <th>Gender_Male</th>\n",
       "    </tr>\n",
       "  </thead>\n",
       "  <tbody>\n",
       "    <tr>\n",
       "      <td>0</td>\n",
       "      <td>619</td>\n",
       "      <td>42</td>\n",
       "      <td>2.0</td>\n",
       "      <td>0.00</td>\n",
       "      <td>1</td>\n",
       "      <td>1</td>\n",
       "      <td>1</td>\n",
       "      <td>101348.88</td>\n",
       "      <td>1</td>\n",
       "      <td>0</td>\n",
       "      <td>0</td>\n",
       "      <td>0</td>\n",
       "    </tr>\n",
       "    <tr>\n",
       "      <td>1</td>\n",
       "      <td>608</td>\n",
       "      <td>41</td>\n",
       "      <td>1.0</td>\n",
       "      <td>83807.86</td>\n",
       "      <td>1</td>\n",
       "      <td>0</td>\n",
       "      <td>1</td>\n",
       "      <td>112542.58</td>\n",
       "      <td>0</td>\n",
       "      <td>0</td>\n",
       "      <td>1</td>\n",
       "      <td>0</td>\n",
       "    </tr>\n",
       "    <tr>\n",
       "      <td>2</td>\n",
       "      <td>502</td>\n",
       "      <td>42</td>\n",
       "      <td>8.0</td>\n",
       "      <td>159660.80</td>\n",
       "      <td>3</td>\n",
       "      <td>1</td>\n",
       "      <td>0</td>\n",
       "      <td>113931.57</td>\n",
       "      <td>1</td>\n",
       "      <td>0</td>\n",
       "      <td>0</td>\n",
       "      <td>0</td>\n",
       "    </tr>\n",
       "  </tbody>\n",
       "</table>\n",
       "</div>"
      ],
      "text/plain": [
       "   CreditScore  Age  Tenure    Balance  NumOfProducts  HasCrCard  \\\n",
       "0          619   42     2.0       0.00              1          1   \n",
       "1          608   41     1.0   83807.86              1          0   \n",
       "2          502   42     8.0  159660.80              3          1   \n",
       "\n",
       "   IsActiveMember  EstimatedSalary  Exited  Geography_Germany  \\\n",
       "0               1        101348.88       1                  0   \n",
       "1               1        112542.58       0                  0   \n",
       "2               0        113931.57       1                  0   \n",
       "\n",
       "   Geography_Spain  Gender_Male  \n",
       "0                0            0  \n",
       "1                1            0  \n",
       "2                0            0  "
      ]
     },
     "execution_count": 12,
     "metadata": {},
     "output_type": "execute_result"
    }
   ],
   "source": [
    "df_ohe.head(3)"
   ]
  },
  {
   "cell_type": "markdown",
   "metadata": {},
   "source": [
    "**Разбиение данных на выборки**"
   ]
  },
  {
   "cell_type": "markdown",
   "metadata": {},
   "source": [
    "Определимся на каких признаках будущие модели будут учится и что будет целевым показателем (таргетом):"
   ]
  },
  {
   "cell_type": "code",
   "execution_count": 13,
   "metadata": {},
   "outputs": [],
   "source": [
    "features = df_ohe.drop(['Exited'], axis=1)\n",
    "target = df_ohe['Exited']"
   ]
  },
  {
   "cell_type": "markdown",
   "metadata": {},
   "source": [
    "Нам нужно разбить исходный датафрейм на 3 части:  \n",
    "\n",
    "**train** - набор данных, на котором будем обучать модель (3 части)  \n",
    "**valid** - набор данных, на котором проверяется качество работы алгоритма во время обучения модели (1 часть)  \n",
    "**test** - набор данных, на котором будет проверяться качество обученной модели (1 часть)"
   ]
  },
  {
   "cell_type": "code",
   "execution_count": 14,
   "metadata": {},
   "outputs": [],
   "source": [
    "features_train_union, features_test, target_train_union, target_test = train_test_split(\n",
    "    features, target, test_size = 0.2, random_state = 12345, stratify = target) "
   ]
  },
  {
   "cell_type": "markdown",
   "metadata": {},
   "source": [
    "Тестовую выборку будем использовать в самом конце, когда модели будут обучены и проверены.  \n",
    "Далее дробим tds на train и valid"
   ]
  },
  {
   "cell_type": "code",
   "execution_count": 15,
   "metadata": {},
   "outputs": [],
   "source": [
    "features_train, features_valid, target_train, target_valid = train_test_split(\n",
    "    features_train_union, target_train_union, test_size = 0.25, random_state = 12345, stratify = target_train_union) "
   ]
  },
  {
   "cell_type": "markdown",
   "metadata": {},
   "source": [
    "Проверим распределение по долям:"
   ]
  },
  {
   "cell_type": "code",
   "execution_count": 16,
   "metadata": {},
   "outputs": [
    {
     "name": "stdout",
     "output_type": "stream",
     "text": [
      "60%\n",
      "20%\n",
      "20%\n"
     ]
    }
   ],
   "source": [
    "print(\"{0:.0%}\".format(len(features_train)/len(df)))\n",
    "print(\"{0:.0%}\".format(len(features_valid)/len(df)))\n",
    "print(\"{0:.0%}\".format(len(features_test)/len(df)))"
   ]
  },
  {
   "cell_type": "markdown",
   "metadata": {},
   "source": [
    "Дополнительно проверим баланс классов в целевой переменной.   \n",
    "Это важно проверить поскольку алгроитмы машинного обучения считают все записи с одинаковым весом."
   ]
  },
  {
   "cell_type": "code",
   "execution_count": 17,
   "metadata": {},
   "outputs": [
    {
     "name": "stdout",
     "output_type": "stream",
     "text": [
      "Количество строк в target_train_union по классам: [5789 1483]\n",
      "Количество строк в target_train по классам: [4342 1112]\n",
      "Количество строк в target_valid по классам: [1447  371]\n",
      "Количество строк в target_test по классам: [1448  371]\n"
     ]
    }
   ],
   "source": [
    "print(f\"Количество строк в target_train_union по классам: {np.bincount(target_train_union)}\")\n",
    "print(f\"Количество строк в target_train по классам: {np.bincount(target_train)}\")\n",
    "print(f\"Количество строк в target_valid по классам: {np.bincount(target_valid)}\")\n",
    "print(f\"Количество строк в target_test по классам: {np.bincount(target_test)}\")"
   ]
  },
  {
   "cell_type": "markdown",
   "metadata": {},
   "source": [
    "**Cтандартизации данных**\n",
    "\n",
    "У признаков разный масштаб, например возраст - уровень дохода - скор сильно отличаются по своему порядку значений.   \n",
    "Проведем стандартизацию признаков."
   ]
  },
  {
   "cell_type": "code",
   "execution_count": 18,
   "metadata": {},
   "outputs": [
    {
     "data": {
      "text/plain": [
       "StandardScaler(copy=True, with_mean=True, with_std=True)"
      ]
     },
     "execution_count": 18,
     "metadata": {},
     "output_type": "execute_result"
    }
   ],
   "source": [
    "scaler = StandardScaler()\n",
    "scaler.fit(features_train[list(features_test.columns)])"
   ]
  },
  {
   "cell_type": "code",
   "execution_count": 19,
   "metadata": {},
   "outputs": [],
   "source": [
    "pd.options.mode.chained_assignment = None"
   ]
  },
  {
   "cell_type": "code",
   "execution_count": 20,
   "metadata": {},
   "outputs": [],
   "source": [
    "for i in [features_train, features_test, features_valid, features_train_union]:\n",
    "    i[list(features_test.columns)] = scaler.transform(i[list(features_test.columns)])"
   ]
  },
  {
   "cell_type": "markdown",
   "metadata": {},
   "source": [
    "**Вывод:**  \n",
    "В данном этапе работы мы изучили предложенные данные.  \n",
    "Провели базовые проверки:\n",
    " - проверили дубликаты\n",
    " - проверили адекватность задания типов переменных\n",
    " - изучили пропуски в данных\n",
    " - проверили мультиколлинеарность признаков   \n",
    " \n",
    "Сделали подготовительную работу, чтобы в оставшейся части проекта заниматься уже оптимизацией и обученим моделей:\n",
    " - избавились от признаков, которые будт не нужны при построении моделей (ИД и фамилии клиентов)\n",
    " - сделали разбиение исходных данных на train-valid-test в соотношении **3-1-1**\n",
    " - проверили баланс классов по целевой переменной и обнаружили дисбаланс (**'1'** в наших данных примерно **25%**)\n",
    " - провели **One-Hot Encoding** категориальных переменных и **стандартизацию** количественных переменных"
   ]
  },
  {
   "cell_type": "markdown",
   "metadata": {},
   "source": [
    "## Исследование задачи"
   ]
  },
  {
   "cell_type": "markdown",
   "metadata": {},
   "source": [
    "Изучим модели **без учета борьбы с дисбалансом**. \n",
    "\n",
    "В постановки задачи нам предлается изучать **f1-меру** как метрику качества обученной модели.\n",
    "\n",
    "Полнота и точность оценивают качество прогноза положительного класса с разных позиций.   \n",
    "\n",
    "**Recall** описывает, как хорошо модель разобралась в особенностях этого класса и распознала его.  \n",
    "\n",
    "**Precision** выявляет, не переусердствует ли модель, присваивая положительные метки.\n",
    "\n",
    "Важны обе метрики. Контролировать их параллельно помогают агрегирующие метрики, одна из которых — **F1-мера**. Это среднее гармоническое полноты и точности. Единица в F1 означает, что соотношение полноты и точности равно 1:1.\n",
    "\n",
    "\n",
    "### **Логистическая регрессия**"
   ]
  },
  {
   "cell_type": "code",
   "execution_count": 21,
   "metadata": {},
   "outputs": [],
   "source": [
    "model_lr = LogisticRegression(random_state = 12345, solver = 'liblinear')"
   ]
  },
  {
   "cell_type": "code",
   "execution_count": 22,
   "metadata": {},
   "outputs": [
    {
     "name": "stdout",
     "output_type": "stream",
     "text": [
      "CPU times: user 27.5 ms, sys: 4.22 ms, total: 31.8 ms\n",
      "Wall time: 14 ms\n"
     ]
    }
   ],
   "source": [
    "%%time\n",
    "model_lr.fit(features_train, target_train)\n",
    "\n",
    "prediction_lr = model_lr.predict(features_valid)\n",
    "best_lr_result = f1_score(target_valid, prediction_lr)"
   ]
  },
  {
   "cell_type": "code",
   "execution_count": 23,
   "metadata": {},
   "outputs": [
    {
     "name": "stdout",
     "output_type": "stream",
     "text": [
      "F1-score: 0.2828282828282828\n"
     ]
    }
   ],
   "source": [
    "print('F1-score:', best_lr_result)"
   ]
  },
  {
   "cell_type": "markdown",
   "metadata": {},
   "source": [
    "### Решающее дерево"
   ]
  },
  {
   "cell_type": "markdown",
   "metadata": {},
   "source": [
    "Здесь добавим подбор гиперпараметров."
   ]
  },
  {
   "cell_type": "code",
   "execution_count": 24,
   "metadata": {},
   "outputs": [
    {
     "name": "stdout",
     "output_type": "stream",
     "text": [
      "F1-score наилучшей модели на валидационной выборке: 0.5605306799336649 Глубина дерева: 7\n",
      "CPU times: user 107 ms, sys: 0 ns, total: 107 ms\n",
      "Wall time: 106 ms\n"
     ]
    },
    {
     "name": "stderr",
     "output_type": "stream",
     "text": [
      "/opt/conda/lib/python3.7/site-packages/sklearn/metrics/classification.py:1437: UndefinedMetricWarning: F-score is ill-defined and being set to 0.0 due to no predicted samples.\n",
      "  'precision', 'predicted', average, warn_for)\n"
     ]
    }
   ],
   "source": [
    "%%time\n",
    "best_dt_model = None\n",
    "best_dt_result = 0\n",
    "best_dt_depth = 0\n",
    "\n",
    "for i in range(1, 10):\n",
    "    model_dt = DecisionTreeClassifier(random_state = 12345, max_depth = i)\n",
    "    model_dt.fit(features_train, target_train) \n",
    "    predictions_valid_dt = model_dt.predict(features_valid) \n",
    "    result_dt = f1_score(target_valid, predictions_valid_dt)\n",
    "    if result_dt > best_dt_result:\n",
    "        best_dt_model = model_dt\n",
    "        best_dt_result = result_dt\n",
    "        best_dt_depth = i\n",
    "\n",
    "print(\"F1-score наилучшей модели на валидационной выборке:\", best_dt_result,\n",
    "\n",
    "      \"Глубина дерева:\", best_dt_depth)"
   ]
  },
  {
   "cell_type": "markdown",
   "metadata": {},
   "source": [
    "### Случайный лес"
   ]
  },
  {
   "cell_type": "markdown",
   "metadata": {},
   "source": [
    "Здесь добавим подбор гиперпараметров."
   ]
  },
  {
   "cell_type": "code",
   "execution_count": 25,
   "metadata": {},
   "outputs": [
    {
     "name": "stderr",
     "output_type": "stream",
     "text": [
      "/opt/conda/lib/python3.7/site-packages/sklearn/metrics/classification.py:1437: UndefinedMetricWarning: F-score is ill-defined and being set to 0.0 due to no predicted samples.\n",
      "  'precision', 'predicted', average, warn_for)\n",
      "/opt/conda/lib/python3.7/site-packages/sklearn/metrics/classification.py:1437: UndefinedMetricWarning: F-score is ill-defined and being set to 0.0 due to no predicted samples.\n",
      "  'precision', 'predicted', average, warn_for)\n",
      "/opt/conda/lib/python3.7/site-packages/sklearn/metrics/classification.py:1437: UndefinedMetricWarning: F-score is ill-defined and being set to 0.0 due to no predicted samples.\n",
      "  'precision', 'predicted', average, warn_for)\n",
      "/opt/conda/lib/python3.7/site-packages/sklearn/metrics/classification.py:1437: UndefinedMetricWarning: F-score is ill-defined and being set to 0.0 due to no predicted samples.\n",
      "  'precision', 'predicted', average, warn_for)\n",
      "/opt/conda/lib/python3.7/site-packages/sklearn/metrics/classification.py:1437: UndefinedMetricWarning: F-score is ill-defined and being set to 0.0 due to no predicted samples.\n",
      "  'precision', 'predicted', average, warn_for)\n"
     ]
    },
    {
     "name": "stdout",
     "output_type": "stream",
     "text": [
      "F1-score наилучшей модели на валидационной выборке: 0.5878378378378378 Глубина дерева: 11 Количество деревьев: 20\n",
      "CPU times: user 8.1 s, sys: 16.1 ms, total: 8.12 s\n",
      "Wall time: 8.18 s\n"
     ]
    }
   ],
   "source": [
    "%%time\n",
    "best_rf_model = None\n",
    "best_rf_result = 0\n",
    "best_rf_est = 0\n",
    "best_rf_depth = 0\n",
    "\n",
    "for est in range(10, 51, 10):\n",
    "    for depth in range (1, 15):\n",
    "        model_rf = RandomForestClassifier(random_state = 12345, n_estimators = est, max_depth = depth)\n",
    "        model_rf.fit(features_train,target_train) \n",
    "        predictions_valid_rf = model_rf.predict(features_valid) \n",
    "        result_rf = f1_score(target_valid, predictions_valid_rf)\n",
    "        if result_rf > best_rf_result:\n",
    "            best_rf_model = model_rf\n",
    "            best_rf_result = result_rf\n",
    "            best_rf_est = est\n",
    "            best_rf_depth = depth\n",
    "print(\"F1-score наилучшей модели на валидационной выборке:\", (best_rf_result), \n",
    "      \"Глубина дерева:\", best_rf_depth, \"Количество деревьев:\", best_rf_est)"
   ]
  },
  {
   "cell_type": "markdown",
   "metadata": {},
   "source": [
    "**Вывод:**\n",
    "\n",
    "- поочередно обучили 3 модели и сравнили их точность на валидационной выборке\n",
    "- для Случайного леса и Решающегоо дерева подобрали гиперпараметры, что позволило добится более высокой точности моделей\n",
    "- наилучшую точность (**0.59**) на валидационной выборке показал Случайный лес, это не сильно удивляет, алгоритм также оказался самым ресурсоемким.\n",
    "\n",
    "Однако мы понимаем, что метрика на тестовой выборке может оказаться не столь высокой. В любом случае, следующий шаг - работа с дисбалансом."
   ]
  },
  {
   "cell_type": "markdown",
   "metadata": {},
   "source": [
    "## Борьба с дисбалансом"
   ]
  },
  {
   "cell_type": "markdown",
   "metadata": {},
   "source": [
    "Есть три возожных варианты решения проблемы:\n",
    "   - **Upsampling** (искуственное увеличение числа записей с целевым признаком == 1)\n",
    "   - **Downsampling** (искуственное занижение числа записей с целевым признаком == 0)\n",
    "   - Добавить в модель взвешивание классов (параметр **class_weight**)"
   ]
  },
  {
   "cell_type": "code",
   "execution_count": 26,
   "metadata": {},
   "outputs": [],
   "source": [
    "def upsample(features, target, repeat):\n",
    "    features_zeros = features[target == 0]\n",
    "    features_ones = features[target == 1]\n",
    "    target_zeros = target[target == 0]\n",
    "    target_ones = target[target == 1]\n",
    "\n",
    "    features_upsampled = pd.concat([features_zeros] + [features_ones] * repeat)\n",
    "    target_upsampled = pd.concat([target_zeros] + [target_ones] * repeat)\n",
    "    \n",
    "    features_upsampled, target_upsampled = shuffle(\n",
    "        features_upsampled, target_upsampled, random_state=12345)\n",
    "    \n",
    "    return features_upsampled, target_upsampled"
   ]
  },
  {
   "cell_type": "code",
   "execution_count": 27,
   "metadata": {},
   "outputs": [],
   "source": [
    "def downsample(features, target, fraction):\n",
    "    features_zeros = features[target == 0]\n",
    "    features_ones = features[target == 1]\n",
    "    target_zeros = target[target == 0]\n",
    "    target_ones = target[target == 1]\n",
    "\n",
    "    features_downsampled = pd.concat(\n",
    "        [features_zeros.sample(frac=fraction, random_state=12345)] + [features_ones])\n",
    "    target_downsampled = pd.concat(\n",
    "        [target_zeros.sample(frac=fraction, random_state=12345)] + [target_ones])\n",
    "    \n",
    "    features_downsampled, target_downsampled = shuffle(\n",
    "        features_downsampled, target_downsampled, random_state=12345)\n",
    "    \n",
    "    return features_downsampled, target_downsampled"
   ]
  },
  {
   "cell_type": "markdown",
   "metadata": {},
   "source": [
    "***Примечание:***  \n",
    "Как мне кажется, в боевых задачах применяется либо **Upsampling** либо **Downsampling**, у нас задача учебная поэтому лучше протестировать и 1 и 2 способ и посмотреть, где метрика буддет лучше (для меня ответ неочевиден)."
   ]
  },
  {
   "cell_type": "markdown",
   "metadata": {},
   "source": [
    "**Upsampling**"
   ]
  },
  {
   "cell_type": "code",
   "execution_count": 28,
   "metadata": {},
   "outputs": [],
   "source": [
    "features_train_up, target_train_up = upsample(features_train, target_train, int(1/round(target_train.mean(),5)))\n",
    "#features_valid_up, target_valid_up = upsample(features_valid, target_valid, int(1/round(target_valid.mean(),5)))\n",
    "features_valid_up = features_valid\n",
    "target_valid_up = target_valid"
   ]
  },
  {
   "cell_type": "code",
   "execution_count": 29,
   "metadata": {},
   "outputs": [
    {
     "name": "stdout",
     "output_type": "stream",
     "text": [
      "Количество строк в target_train_up по классам: [4342 4448]\n"
     ]
    }
   ],
   "source": [
    "print(f\"Количество строк в target_train_up по классам: {np.bincount(target_train_up)}\")\n",
    "#print(f\"Количество строк в target_valid_up по классам: {np.bincount(target_valid_up)}\")"
   ]
  },
  {
   "cell_type": "markdown",
   "metadata": {},
   "source": [
    "**Downsampling**"
   ]
  },
  {
   "cell_type": "code",
   "execution_count": 30,
   "metadata": {},
   "outputs": [],
   "source": [
    "features_train_dwn, target_train_dwn = downsample(features_train, target_train, (target_train.mean()))\n",
    "#features_valid_dwn, target_valid_dwn = downsample(features_valid, target_valid, (target_valid.mean()))\n",
    "features_valid_dwn = features_valid\n",
    "target_valid_dwn = target_valid"
   ]
  },
  {
   "cell_type": "code",
   "execution_count": 31,
   "metadata": {},
   "outputs": [
    {
     "name": "stdout",
     "output_type": "stream",
     "text": [
      "Количество строк в target_train_dwn по классам: [ 885 1112]\n"
     ]
    }
   ],
   "source": [
    "print(f\"Количество строк в target_train_dwn по классам: {np.bincount(target_train_dwn)}\")\n",
    "#print(f\"Количество строк в target_valid_dwn по классам: {np.bincount(target_valid_dwn)}\")"
   ]
  },
  {
   "cell_type": "markdown",
   "metadata": {},
   "source": [
    "После всех манипуляций дополнительно создадим наборы данных с объединением **train + valid**"
   ]
  },
  {
   "cell_type": "code",
   "execution_count": 32,
   "metadata": {},
   "outputs": [],
   "source": [
    "features_train_union = pd.concat([features_train] + [features_valid])\n",
    "target_train_union = pd.concat([target_train] + [target_valid])\n",
    "\n",
    "features_train_union_up = pd.concat([features_train_up] + [features_valid_up])\n",
    "target_train_union_up = pd.concat([target_train_up] + [target_valid_up])\n",
    "\n",
    "features_train_union_dwn = pd.concat([features_train_dwn] + [features_valid_dwn])\n",
    "target_train_union_dwn = pd.concat([target_train_dwn] + [target_valid_dwn])"
   ]
  },
  {
   "cell_type": "markdown",
   "metadata": {},
   "source": [
    "**Вывод:**\n",
    "\n",
    "В данном этапе исследования мы реализовали формирование 2 альтернативных варианта борьбы с дисбалансом в целевом признаке:\n",
    " - Upsampling \n",
    " - Downsampling\n",
    "\n",
    "Что эффективнее посмотрим в заключительной главе."
   ]
  },
  {
   "cell_type": "markdown",
   "metadata": {},
   "source": [
    "## Тестирование модели"
   ]
  },
  {
   "cell_type": "markdown",
   "metadata": {},
   "source": [
    "**Обучение моделей после балансировки и занижении/увеличении числа записей в выборке**"
   ]
  },
  {
   "cell_type": "markdown",
   "metadata": {},
   "source": [
    "### Обучение моделей и поиск лучших гиперпараметров"
   ]
  },
  {
   "cell_type": "markdown",
   "metadata": {},
   "source": [
    "#### **Логистическая регрессия**"
   ]
  },
  {
   "cell_type": "code",
   "execution_count": 33,
   "metadata": {},
   "outputs": [],
   "source": [
    "model_lr_balanced = LogisticRegression(random_state = 12345, solver = 'liblinear', class_weight = 'balanced')"
   ]
  },
  {
   "cell_type": "code",
   "execution_count": 34,
   "metadata": {},
   "outputs": [
    {
     "name": "stdout",
     "output_type": "stream",
     "text": [
      "F1-score balanced: 0.2828282828282828\n",
      "F1-score upsampling: 0.49340866290018837\n",
      "F1-score downsampling: 0.47248094834885684\n",
      "CPU times: user 131 ms, sys: 126 ms, total: 257 ms\n",
      "Wall time: 185 ms\n"
     ]
    }
   ],
   "source": [
    "%%time\n",
    "### балансировка\n",
    "model_lr_balanced.fit(features_train, target_train)\n",
    "prediction_lr_blnc = model_lr.predict(features_valid)\n",
    "best_lr_result_blnc = f1_score(target_valid, prediction_lr)\n",
    "print('F1-score balanced:', (best_lr_result_blnc))\n",
    "\n",
    "### upsampling\n",
    "model_lr.fit(features_train_up, target_train_up)\n",
    "prediction_lr_up = model_lr.predict(features_valid_up)\n",
    "best_lr_result_up = f1_score(target_valid_up, prediction_lr_up)\n",
    "print('F1-score upsampling:', (best_lr_result_up))\n",
    "\n",
    "### downsampling\n",
    "model_lr.fit(features_train_dwn, target_train_dwn)\n",
    "prediction_lr_dwn = model_lr.predict(features_valid_dwn)\n",
    "best_lr_result_dwn = f1_score(target_valid_dwn, prediction_lr_dwn)\n",
    "print('F1-score downsampling:', (best_lr_result_dwn))"
   ]
  },
  {
   "cell_type": "markdown",
   "metadata": {},
   "source": [
    "#### Решающее дерево"
   ]
  },
  {
   "cell_type": "code",
   "execution_count": 35,
   "metadata": {},
   "outputs": [
    {
     "name": "stdout",
     "output_type": "stream",
     "text": [
      "F1-score balanced: 0.5708418891170433 Глубина дерева: 8\n",
      "F1-score upsampling: 0.5699693564862104 Глубина дерева: 8\n",
      "F1-score downsampling: 0.5436507936507936 Глубина дерева: 5\n",
      "CPU times: user 341 ms, sys: 16.5 ms, total: 357 ms\n",
      "Wall time: 431 ms\n"
     ]
    }
   ],
   "source": [
    "%%time\n",
    "### балансировка\n",
    "best_dt_model_blnc = None\n",
    "best_dt_result_blnc = 0\n",
    "best_dt_depth_blnc = 0\n",
    "\n",
    "for i in range(1, 10):\n",
    "    model_dt = DecisionTreeClassifier(random_state = 12345, max_depth = i, class_weight = 'balanced')\n",
    "    model_dt.fit(features_train, target_train) \n",
    "    predictions_valid_dt = model_dt.predict(features_valid) \n",
    "    result_dt = f1_score(target_valid, predictions_valid_dt)\n",
    "    if result_dt > best_dt_result_blnc:\n",
    "        best_dt_model_blnc = model_dt\n",
    "        best_dt_result_blnc = result_dt\n",
    "        best_dt_depth_blnc = i\n",
    "print(\"F1-score balanced:\", (best_dt_result_blnc), \"Глубина дерева:\", best_dt_depth_blnc)\n",
    "        \n",
    "### upsampling\n",
    "best_dt_model_up = None\n",
    "best_dt_result_up = 0\n",
    "best_dt_depth_up = 0\n",
    "\n",
    "for i in range(1, 10):\n",
    "    model_dt = DecisionTreeClassifier(random_state = 12345, max_depth = i)\n",
    "    model_dt.fit(features_train_up, target_train_up)\n",
    "    predictions_valid_dt = model_dt.predict(features_valid_up) \n",
    "    result_dt = f1_score(target_valid_up, predictions_valid_dt)\n",
    "    if result_dt > best_dt_result_up:\n",
    "        best_dt_model_up = model_dt\n",
    "        best_dt_result_up = result_dt\n",
    "        best_dt_depth_up = i        \n",
    "print(\"F1-score upsampling:\", (best_dt_result_up), \"Глубина дерева:\", best_dt_depth_up)\n",
    "\n",
    "### downsampling\n",
    "best_dt_model_dwn = None\n",
    "best_dt_result_dwn = 0\n",
    "best_dt_depth_dwn = 0\n",
    "\n",
    "for i in range(1, 10):\n",
    "    model_dt = DecisionTreeClassifier(random_state = 12345, max_depth = i)\n",
    "    model_dt.fit(features_train_dwn, target_train_dwn)\n",
    "    predictions_valid_dt = model_dt.predict(features_valid_dwn) \n",
    "    result_dt = f1_score(target_valid_dwn, predictions_valid_dt)\n",
    "    if result_dt > best_dt_result_dwn:\n",
    "        best_dt_model_dwn = model_dt\n",
    "        best_dt_result_dwn = result_dt\n",
    "        best_dt_depth_dwn = i        \n",
    "print(\"F1-score downsampling:\", (best_dt_result_dwn), \"Глубина дерева:\", best_dt_depth_dwn)\n"
   ]
  },
  {
   "cell_type": "markdown",
   "metadata": {},
   "source": [
    "#### Случайный лес"
   ]
  },
  {
   "cell_type": "code",
   "execution_count": 36,
   "metadata": {},
   "outputs": [
    {
     "name": "stdout",
     "output_type": "stream",
     "text": [
      "F1-score balanced: 0.613728129205922 Глубина дерева: 10 Количество деревьев: 20\n",
      "F1-score upsampling: 0.609597924773022 Глубина дерева: 12 Количество деревьев: 50\n",
      "F1-score downsampling: 0.5653846153846155 Глубина дерева: 8 Количество деревьев: 30\n",
      "CPU times: user 23.2 s, sys: 56.7 ms, total: 23.2 s\n",
      "Wall time: 23.6 s\n"
     ]
    }
   ],
   "source": [
    "%%time\n",
    "### балансировка\n",
    "best_rf_model_blnc = None\n",
    "best_rf_result_blnc = 0\n",
    "best_rf_est_blnc = 0\n",
    "best_rf_depth_blnc = 0\n",
    "\n",
    "for est in range(10, 51, 10):\n",
    "    for depth in range (1, 15):\n",
    "        model_rf = RandomForestClassifier(random_state = 12345, n_estimators = est, max_depth = depth, \n",
    "                                                                                      class_weight = 'balanced')\n",
    "        model_rf.fit(features_train,target_train) \n",
    "        predictions_valid_rf = model_rf.predict(features_valid) \n",
    "        result_rf = f1_score(target_valid, predictions_valid_rf)\n",
    "        if result_rf > best_rf_result_blnc:\n",
    "            best_rf_model_blnc = model_rf\n",
    "            best_rf_result_blnc = result_rf\n",
    "            best_rf_est_blnc = est\n",
    "            best_rf_depth_blnc = depth\n",
    "print(\"F1-score balanced:\", (best_rf_result_blnc), \n",
    "      \"Глубина дерева:\", best_rf_depth_blnc, \"Количество деревьев:\", best_rf_est_blnc)\n",
    "\n",
    "### upsampling\n",
    "best_rf_model_up = None\n",
    "best_rf_result_up = 0\n",
    "best_rf_est_up = 0\n",
    "best_rf_depth_up = 0\n",
    "\n",
    "for est in range(10, 51, 10):\n",
    "    for depth in range (1, 15):\n",
    "        model_rf = RandomForestClassifier(random_state = 12345, n_estimators = est, max_depth = depth)\n",
    "        model_rf.fit(features_train_up, target_train_up) \n",
    "        predictions_valid_rf = model_rf.predict(features_valid_up) \n",
    "        result_rf = f1_score(target_valid_up, predictions_valid_rf)\n",
    "        if result_rf > best_rf_result_up:\n",
    "            best_rf_model_up = model_rf\n",
    "            best_rf_result_up = result_rf\n",
    "            best_rf_est_up = est\n",
    "            best_rf_depth_up = depth\n",
    "print(\"F1-score upsampling:\", (best_rf_result_up), \n",
    "      \"Глубина дерева:\", best_rf_depth_up, \"Количество деревьев:\", best_rf_est_up)\n",
    "\n",
    "### downsampling\n",
    "best_rf_model_dwn = None\n",
    "best_rf_result_dwn = 0\n",
    "best_rf_est_dwn = 0\n",
    "best_rf_depth_dwn = 0\n",
    "\n",
    "for est in range(10, 51, 10):\n",
    "    for depth in range (1, 15):\n",
    "        model_rf = RandomForestClassifier(random_state = 12345, n_estimators = est, max_depth = depth)\n",
    "        model_rf.fit(features_train_dwn, target_train_dwn) \n",
    "        predictions_valid_rf = model_rf.predict(features_valid_dwn) \n",
    "        result_rf = f1_score(target_valid_dwn, predictions_valid_rf)\n",
    "        if result_rf > best_rf_result_dwn:\n",
    "            best_rf_model_dwn = model_rf\n",
    "            best_rf_result_dwn = result_rf\n",
    "            best_rf_est_dwn = est\n",
    "            best_rf_depth_dwn = depth\n",
    "print(\"F1-score downsampling:\", (best_rf_result_dwn), \n",
    "      \"Глубина дерева:\", best_rf_depth_dwn, \"Количество деревьев:\", best_rf_est_dwn)"
   ]
  },
  {
   "cell_type": "markdown",
   "metadata": {},
   "source": [
    "### Проверяем модели на тестовой выборке"
   ]
  },
  {
   "cell_type": "markdown",
   "metadata": {},
   "source": [
    "Чтобы провести проверку результатов на тестовой выборке переобучимся на **train + valid**"
   ]
  },
  {
   "cell_type": "markdown",
   "metadata": {},
   "source": [
    "#### **Логистическая регрессия**"
   ]
  },
  {
   "cell_type": "code",
   "execution_count": 37,
   "metadata": {},
   "outputs": [
    {
     "name": "stdout",
     "output_type": "stream",
     "text": [
      "F1-score balanced: 0.4849498327759197\n",
      "F1-score upsampling: 0.49893842887473455\n",
      "F1-score downsampling: 0.5055762081784386\n"
     ]
    }
   ],
   "source": [
    "### балансировка\n",
    "model_lr_balanced.fit(features_train_union, target_train_union)\n",
    "prediction_lr_tst_blnc = model_lr.predict(features_test)\n",
    "best_lr_tst_result_blnc = f1_score(target_test, prediction_lr_tst_blnc)\n",
    "print('F1-score balanced:', (best_lr_tst_result_blnc))\n",
    "\n",
    "### upsampling\n",
    "model_lr.fit(features_train_union_up, target_train_union_up)\n",
    "prediction_lr_tst_up = model_lr.predict(features_test)\n",
    "best_lr_tst_result_up = f1_score(target_test, prediction_lr_tst_up)\n",
    "print('F1-score upsampling:', (best_lr_tst_result_up))\n",
    "\n",
    "### downsampling\n",
    "model_lr.fit(features_train_union_dwn, target_train_union_dwn)\n",
    "prediction_lr_tst_dwn = model_lr.predict(features_test)\n",
    "best_lr_tst_result_dwn = f1_score(target_test, prediction_lr_tst_dwn)\n",
    "print('F1-score downsampling:', (best_lr_tst_result_dwn))"
   ]
  },
  {
   "cell_type": "markdown",
   "metadata": {},
   "source": [
    "#### **Решающее дерево**"
   ]
  },
  {
   "cell_type": "code",
   "execution_count": 38,
   "metadata": {},
   "outputs": [
    {
     "name": "stdout",
     "output_type": "stream",
     "text": [
      "F1-score balanced: 0.5546492659053834\n",
      "F1-score upsampling: 0.5546492659053834\n",
      "F1-score downsampling: 0.5547945205479452\n"
     ]
    }
   ],
   "source": [
    "### балансировка\n",
    "model_dt_union_blnc = DecisionTreeClassifier(random_state = 12345, max_depth = best_dt_depth_blnc)\n",
    "model_dt_union_blnc.fit(features_train_union, target_train_union) \n",
    "final_dt_union_blnc  = model_dt_union_blnc.predict(features_test)\n",
    "best_dt_tst_result_blnc = f1_score(target_test, final_dt_union_blnc)\n",
    "print('F1-score balanced:', (best_dt_tst_result_blnc))\n",
    "\n",
    "### upsampling\n",
    "model_dt_union_up = DecisionTreeClassifier(random_state = 12345, max_depth = best_dt_depth_up)\n",
    "model_dt_union_up.fit(features_train_union, target_train_union) \n",
    "final_dt_union_up  = model_dt_union_up.predict(features_test)\n",
    "best_dt_tst_result_up = f1_score(target_test, final_dt_union_up)\n",
    "print('F1-score upsampling:', (best_dt_tst_result_up))\n",
    "\n",
    "### downsampling\n",
    "model_dt_union_dwn = DecisionTreeClassifier(random_state = 12345, max_depth = best_dt_depth_dwn)\n",
    "model_dt_union_dwn.fit(features_train_union, target_train_union) \n",
    "final_dt_union_dwn  = model_dt_union_dwn.predict(features_test)\n",
    "best_dt_tst_result_dwn = f1_score(target_test, final_dt_union_dwn)\n",
    "print('F1-score downsampling:', (best_dt_tst_result_dwn))"
   ]
  },
  {
   "cell_type": "markdown",
   "metadata": {},
   "source": [
    "#### Случайный лес"
   ]
  },
  {
   "cell_type": "code",
   "execution_count": 39,
   "metadata": {},
   "outputs": [
    {
     "name": "stdout",
     "output_type": "stream",
     "text": [
      "F1-score balanced: 0.595959595959596\n",
      "F1-score upsampling: 0.6095551894563427\n",
      "F1-score downsampling: 0.5870307167235495\n"
     ]
    }
   ],
   "source": [
    "### балансировка\n",
    "model_rf_union_blnc = RandomForestClassifier(random_state = 12345, \n",
    "                                               n_estimators = best_rf_est_blnc, max_depth = best_rf_depth_blnc)\n",
    "model_rf_union_blnc.fit(features_train_union, target_train_union) \n",
    "final_rf_union_blnc = model_rf_union_blnc.predict(features_test)\n",
    "best_rf_tst_result_blnc = f1_score(target_test, final_rf_union_blnc)\n",
    "print('F1-score balanced:', (best_rf_tst_result_blnc))\n",
    "\n",
    "### upsampling\n",
    "model_rf_union_up = RandomForestClassifier(random_state = 12345, \n",
    "                                               n_estimators = best_rf_est_up, max_depth = best_rf_depth_up)\n",
    "model_rf_union_up.fit(features_train_union, target_train_union) \n",
    "final_rf_union_up = model_rf_union_up.predict(features_test)\n",
    "best_rf_tst_result_up = f1_score(target_test, final_rf_union_up)\n",
    "print('F1-score upsampling:', (best_rf_tst_result_up))\n",
    "\n",
    "### downsampling\n",
    "model_rf_union_dwn = RandomForestClassifier(random_state = 12345, \n",
    "                                               n_estimators = best_rf_est_dwn, max_depth = best_rf_depth_dwn)\n",
    "model_rf_union_dwn.fit(features_train_union, target_train_union) \n",
    "final_rf_union_dwn = model_rf_union_dwn.predict(features_test)\n",
    "best_rf_tst_result_dwn = f1_score(target_test, final_rf_union_dwn)\n",
    "print('F1-score downsampling:', (best_rf_tst_result_dwn))\n"
   ]
  },
  {
   "cell_type": "markdown",
   "metadata": {},
   "source": [
    "<div class=\"alert alert-block alert-success\">\n",
    "<b>Успех:</b> Тестирование было сделано абсолютно верно.\n",
    "</div>"
   ]
  },
  {
   "cell_type": "markdown",
   "metadata": {},
   "source": [
    "#### Агрегация результата"
   ]
  },
  {
   "cell_type": "markdown",
   "metadata": {},
   "source": [
    "**Соберем все в одну таблицу, чтобы результаты было проще оценить результаты:**"
   ]
  },
  {
   "cell_type": "code",
   "execution_count": 40,
   "metadata": {},
   "outputs": [],
   "source": [
    "res_blnc =  pd.DataFrame({\n",
    "   'Логистическая регрессия': [round(best_lr_result,4), '---',round(best_lr_tst_result_blnc,4),round(best_lr_tst_result_up,4), round(best_lr_tst_result_dwn,4)],\n",
    "   'Решающее дерево': [round(best_dt_result,4), '---', round(best_dt_tst_result_blnc,4), round(best_dt_tst_result_up,4), round(best_dt_tst_result_dwn,4)],\n",
    "   'Случайный лес': [round(best_rf_result,4), '---',round(best_rf_tst_result_blnc,4), round(best_rf_tst_result_up,4), round(best_rf_tst_result_dwn,4)]\n",
    "})\n",
    "\n",
    "res_blnc.index =  ['F1 без учета дисбаланса (valid)','F1 с учетом дисбаланса (test)' , 'Балансировка', 'Upsampling', 'Downsampling']"
   ]
  },
  {
   "cell_type": "code",
   "execution_count": 41,
   "metadata": {},
   "outputs": [
    {
     "data": {
      "text/html": [
       "<div>\n",
       "<style scoped>\n",
       "    .dataframe tbody tr th:only-of-type {\n",
       "        vertical-align: middle;\n",
       "    }\n",
       "\n",
       "    .dataframe tbody tr th {\n",
       "        vertical-align: top;\n",
       "    }\n",
       "\n",
       "    .dataframe thead th {\n",
       "        text-align: right;\n",
       "    }\n",
       "</style>\n",
       "<table border=\"1\" class=\"dataframe\">\n",
       "  <thead>\n",
       "    <tr style=\"text-align: right;\">\n",
       "      <th></th>\n",
       "      <th>Логистическая регрессия</th>\n",
       "      <th>Решающее дерево</th>\n",
       "      <th>Случайный лес</th>\n",
       "    </tr>\n",
       "  </thead>\n",
       "  <tbody>\n",
       "    <tr>\n",
       "      <td>F1 без учета дисбаланса (valid)</td>\n",
       "      <td>0.2828</td>\n",
       "      <td>0.5605</td>\n",
       "      <td>0.5878</td>\n",
       "    </tr>\n",
       "    <tr>\n",
       "      <td>F1 с учетом дисбаланса (test)</td>\n",
       "      <td>---</td>\n",
       "      <td>---</td>\n",
       "      <td>---</td>\n",
       "    </tr>\n",
       "    <tr>\n",
       "      <td>Балансировка</td>\n",
       "      <td>0.4849</td>\n",
       "      <td>0.5546</td>\n",
       "      <td>0.596</td>\n",
       "    </tr>\n",
       "    <tr>\n",
       "      <td>Upsampling</td>\n",
       "      <td>0.4989</td>\n",
       "      <td>0.5546</td>\n",
       "      <td>0.6096</td>\n",
       "    </tr>\n",
       "    <tr>\n",
       "      <td>Downsampling</td>\n",
       "      <td>0.5056</td>\n",
       "      <td>0.5548</td>\n",
       "      <td>0.587</td>\n",
       "    </tr>\n",
       "  </tbody>\n",
       "</table>\n",
       "</div>"
      ],
      "text/plain": [
       "                                Логистическая регрессия Решающее дерево  \\\n",
       "F1 без учета дисбаланса (valid)                  0.2828          0.5605   \n",
       "F1 с учетом дисбаланса (test)                       ---             ---   \n",
       "Балансировка                                     0.4849          0.5546   \n",
       "Upsampling                                       0.4989          0.5546   \n",
       "Downsampling                                     0.5056          0.5548   \n",
       "\n",
       "                                Случайный лес  \n",
       "F1 без учета дисбаланса (valid)        0.5878  \n",
       "F1 с учетом дисбаланса (test)             ---  \n",
       "Балансировка                            0.596  \n",
       "Upsampling                             0.6096  \n",
       "Downsampling                            0.587  "
      ]
     },
     "execution_count": 41,
     "metadata": {},
     "output_type": "execute_result"
    }
   ],
   "source": [
    "res_blnc"
   ]
  },
  {
   "cell_type": "markdown",
   "metadata": {},
   "source": [
    "Видим, что самый высокий результат F1-меры на тестовой выборке - **0.61%**, достигается:\n",
    " - при балансировке классов Upsampling\n",
    " - на алгоритме Случайного леса"
   ]
  },
  {
   "cell_type": "markdown",
   "metadata": {},
   "source": [
    "#### Метрика AUC-ROC"
   ]
  },
  {
   "cell_type": "markdown",
   "metadata": {},
   "source": [
    "Сравнение метрик буду проводить по 3 моделям, с параметрами давшими максимальный результат на тесте:\n",
    "   - **Логистическая регрессия** - Downsampling\n",
    "   - **Решающее дерево** - Downsampling\n",
    "   - **Случайный лес** - Upsampling"
   ]
  },
  {
   "cell_type": "markdown",
   "metadata": {},
   "source": [
    "**Логистическая регрессия**"
   ]
  },
  {
   "cell_type": "code",
   "execution_count": 43,
   "metadata": {},
   "outputs": [],
   "source": [
    "model_lr.fit(features_train_union_dwn, target_train_union_dwn)\n",
    "prediction_lr_tst_dwn = model_lr.predict_proba(features_test)\n",
    "prediction_lr_tst_dwn_one = prediction_lr_tst_dwn[:,1]\n",
    "fpr_lr_dwn, tpr_lr_dwn, thd_lg_dwn = roc_curve(target_test, prediction_lr_tst_dwn_one)"
   ]
  },
  {
   "cell_type": "markdown",
   "metadata": {},
   "source": [
    "**Решающее дерево**"
   ]
  },
  {
   "cell_type": "code",
   "execution_count": 44,
   "metadata": {},
   "outputs": [],
   "source": [
    "prediction_dt_tst_dwn = model_dt_union_dwn.predict_proba(features_test)\n",
    "prediction_dt_tst_dwn_one = prediction_dt_tst_dwn[:,1]\n",
    "fpr_dt_dwn, tpr_dt_dwn, thd_dt_dwn = roc_curve(target_test, prediction_dt_tst_dwn_one)"
   ]
  },
  {
   "cell_type": "markdown",
   "metadata": {},
   "source": [
    "**Случайный лес**"
   ]
  },
  {
   "cell_type": "code",
   "execution_count": 45,
   "metadata": {},
   "outputs": [],
   "source": [
    "prediction_rf_tst_up = model_rf_union_up.predict_proba(features_test)\n",
    "prediction_rf_tst_up_one = prediction_rf_tst_up[:,1]\n",
    "fpr_rf_up, tpr_rf_up, thd_rf_up = roc_curve(target_test, prediction_rf_tst_up_one)"
   ]
  },
  {
   "cell_type": "markdown",
   "metadata": {},
   "source": [
    "**Графическое отображение результатов:**"
   ]
  },
  {
   "cell_type": "code",
   "execution_count": 46,
   "metadata": {},
   "outputs": [
    {
     "data": {
      "text/plain": [
       "<Figure size 432x288 with 0 Axes>"
      ]
     },
     "metadata": {},
     "output_type": "display_data"
    },
    {
     "data": {
      "image/png": "[encoded data removed]",
      "text/plain": [
       "<Figure size 576x360 with 1 Axes>"
      ]
     },
     "metadata": {
      "needs_background": "light"
     },
     "output_type": "display_data"
    }
   ],
   "source": [
    "plt.figure()\n",
    "\n",
    "plt.figure(figsize = (8, 5))\n",
    "plt.plot([0, 1], [0, 1], linestyle = '--')\n",
    "plt.xlim([0.0, 1.0])\n",
    "plt.ylim([0.0, 1.0])\n",
    "\n",
    "plt.plot(fpr_lr_dwn, tpr_lr_dwn)\n",
    "plt.plot(fpr_dt_dwn, tpr_dt_dwn)\n",
    "plt.plot(fpr_rf_up, tpr_rf_up)\n",
    "\n",
    "plt.xlabel('False Positive Rate')\n",
    "plt.ylabel('True Positive Rate')\n",
    "plt.title('ROC-кривая')\n",
    "\n",
    "plt.legend(('Случайная модель','Логистическая регрессия','Решающее дерево', 'Случайный лес'),\n",
    "           loc = 'lower right')\n",
    "plt.show()"
   ]
  },
  {
   "cell_type": "markdown",
   "metadata": {},
   "source": [
    "**Выведем числовые значения метрики AUC-ROC**"
   ]
  },
  {
   "cell_type": "code",
   "execution_count": 47,
   "metadata": {},
   "outputs": [
    {
     "name": "stdout",
     "output_type": "stream",
     "text": [
      "Логистическая регрессия roc_auc_score: 0.7792773004125031\n",
      "Решающее дерево roc_auc_score: 0.83845456508466\n",
      "Случайный лес roc_auc_score: 0.8561506902354395\n"
     ]
    }
   ],
   "source": [
    "auc_roc_lr = roc_auc_score(target_test, prediction_lr_tst_dwn_one)\n",
    "auc_roc_dt = roc_auc_score(target_test, prediction_dt_tst_dwn_one)\n",
    "auc_roc_rf = roc_auc_score(target_test, prediction_rf_tst_up_one)\n",
    "\n",
    "print('Логистическая регрессия roc_auc_score:', (auc_roc_lr))\n",
    "print('Решающее дерево roc_auc_score:', (auc_roc_dt))\n",
    "print('Случайный лес roc_auc_score:', (auc_roc_rf))"
   ]
  },
  {
   "cell_type": "markdown",
   "metadata": {},
   "source": [
    "**Также интерессно посмотреть оптимальный параметр порога для каждой из моделей:**"
   ]
  },
  {
   "cell_type": "code",
   "execution_count": 48,
   "metadata": {},
   "outputs": [
    {
     "name": "stdout",
     "output_type": "stream",
     "text": [
      "Логистическая регрессия optimal_threshold: 0.3583733318638587\n",
      "Решающее дерево optimal_threshold: 0.21521739130434783\n",
      "Случайный лес optimal_threshold: 0.21493742867636265\n"
     ]
    }
   ],
   "source": [
    "optimal_idx_lr = np.argmax(tpr_lr_dwn - fpr_lr_dwn)\n",
    "optimal_threshold_lr = thd_lg_dwn[optimal_idx_lr]\n",
    "\n",
    "optimal_idx_dt = np.argmax(tpr_dt_dwn - fpr_dt_dwn)\n",
    "optimal_threshold_dt = thd_dt_dwn[optimal_idx_dt]\n",
    "\n",
    "optimal_id_rf = np.argmax(tpr_rf_up - fpr_rf_up)\n",
    "optimal_threshold_rf = thd_rf_up[optimal_id_rf]\n",
    "\n",
    "print('Логистическая регрессия optimal_threshold:', (optimal_threshold_lr))\n",
    "print('Решающее дерево optimal_threshold:', (optimal_threshold_dt))\n",
    "print('Случайный лес optimal_threshold:',  (optimal_threshold_rf))"
   ]
  },
  {
   "cell_type": "markdown",
   "metadata": {},
   "source": [
    "**Вывод:**\n",
    "   - нашли лучшие гиперпараметры для каждой из моделей\n",
    "   - поочередно проверили для каждого типа моделей подходы для борьбы с дисбалансом и для каждой определили лучший исходя из F1-меры\n",
    "   - обучили полученные модели на тестовой выборке, определии лучшую модель по F1-метрике уже на тесте\n",
    "   - для лучших модлей каждого типа (по критерию борьбы с дисбалансом) построили ROC-кривые и сравнили показатели AUC-ROC)"
   ]
  },
  {
   "cell_type": "markdown",
   "metadata": {},
   "source": [
    "**Общий вывод:**\n",
    "\n",
    "Основной задачей проекта было построение модели оттока по уже готовой разметке.  \n",
    "В рамках проекта:\n",
    "- была сделана предобработка данных:\n",
    "     - обработка пропусков\n",
    "     - исключение лишних для обучения модели столбцов\n",
    "     - проверка мультиколлениарности признаков\n",
    "     - оценка дисбаланса целевой переменной\n",
    "- далее был осуществлен первичный подход к обучению моделей логистической регрессии, решающего дерева и случайного леса, в каждом случае подбирались оптимальные гиперпараметры для увеличения метрики f1-score.\n",
    "- после, для каждой из моделей, последовательно применялись различные подходы для борьбы с дисбалансом и улучшению качества моделей:\n",
    "    - балансировка\n",
    "    - upsampling\n",
    "    - downsampling\n",
    "- на завершающем этапе было проведено итоговое обучение и проверка метрик на тестовой выборке и определены лучшие комбинации `модель - способ` устранения дисбаланса. Интерессно, что для каждой модели лучше подходил свой метод корректировки.\n",
    "- дополнительно для 3 типов моделей была пстроеа ROC - кривая и определена метрика AUC-ROC.\n",
    "- лучший результат показала модель Random Forest. **F1-score - 0.61**, **roc_auc_score: 0.86**"
   ]
  },
  {
   "cell_type": "markdown",
   "metadata": {},
   "source": [
    "## Чек-лист готовности проекта"
   ]
  },
  {
   "cell_type": "markdown",
   "metadata": {},
   "source": [
    "Поставьте 'x' в выполненных пунктах. Далее нажмите Shift+Enter."
   ]
  },
  {
   "cell_type": "markdown",
   "metadata": {},
   "source": [
    "- [x]  Jupyter Notebook открыт\n",
    "- [x]  Весь код выполняется без ошибок\n",
    "- [x]  Ячейки с кодом расположены в порядке исполнения\n",
    "- [x]  Выполнен шаг 1: данные подготовлены\n",
    "- [x]  Выполнен шаг 2: задача исследована\n",
    "    - [x]  Исследован баланс классов\n",
    "    - [x]  Изучены модели без учёта дисбаланса\n",
    "    - [x]  Написаны выводы по результатам исследования\n",
    "- [x]  Выполнен шаг 3: учтён дисбаланс\n",
    "    - [x]  Применено несколько способов борьбы с дисбалансом\n",
    "    - [x]  Написаны выводы по результатам исследования\n",
    "- [x]  Выполнен шаг 4: проведено тестирование\n",
    "- [x]  Удалось достичь *F1*-меры не менее 0.59\n",
    "- [x]  Исследована метрика *AUC-ROC*"
   ]
  },
  {
   "cell_type": "code",
   "execution_count": null,
   "metadata": {},
   "outputs": [],
   "source": []
  }
 ],
 "metadata": {
  "ExecuteTimeLog": [
   {
    "duration": 280,
    "start_time": "2021-09-18T20:15:20.039Z"
   },
   {
    "duration": 1110,
    "start_time": "2021-09-18T20:15:23.017Z"
   },
   {
    "duration": 27,
    "start_time": "2021-09-18T20:15:24.129Z"
   },
   {
    "duration": 14,
    "start_time": "2021-09-18T20:17:29.205Z"
   },
   {
    "duration": 8,
    "start_time": "2021-09-18T20:17:33.763Z"
   },
   {
    "duration": 38,
    "start_time": "2021-09-18T20:18:02.134Z"
   },
   {
    "duration": 6,
    "start_time": "2021-09-18T20:23:32.233Z"
   },
   {
    "duration": 19,
    "start_time": "2021-09-18T20:23:55.430Z"
   },
   {
    "duration": 12,
    "start_time": "2021-09-18T20:24:54.622Z"
   },
   {
    "duration": 6,
    "start_time": "2021-09-18T20:25:18.336Z"
   },
   {
    "duration": 7,
    "start_time": "2021-09-18T20:26:14.353Z"
   },
   {
    "duration": 6,
    "start_time": "2021-09-18T20:26:31.959Z"
   },
   {
    "duration": 6,
    "start_time": "2021-09-18T20:26:44.861Z"
   },
   {
    "duration": 16,
    "start_time": "2021-09-18T20:29:20.033Z"
   },
   {
    "duration": 155,
    "start_time": "2021-09-18T20:35:50.194Z"
   },
   {
    "duration": 150,
    "start_time": "2021-09-18T20:36:04.292Z"
   },
   {
    "duration": 4,
    "start_time": "2021-09-18T20:37:30.585Z"
   },
   {
    "duration": 3,
    "start_time": "2021-09-18T20:37:44.641Z"
   },
   {
    "duration": 13,
    "start_time": "2021-09-18T20:41:27.282Z"
   },
   {
    "duration": 509,
    "start_time": "2021-09-18T20:42:21.168Z"
   },
   {
    "duration": 4,
    "start_time": "2021-09-18T20:47:36.112Z"
   },
   {
    "duration": 4,
    "start_time": "2021-09-18T20:48:13.963Z"
   },
   {
    "duration": 16,
    "start_time": "2021-09-18T20:49:11.322Z"
   },
   {
    "duration": 17,
    "start_time": "2021-09-18T20:50:20.097Z"
   },
   {
    "duration": 7,
    "start_time": "2021-09-18T20:51:14.019Z"
   },
   {
    "duration": 32,
    "start_time": "2021-09-18T20:51:36.929Z"
   },
   {
    "duration": 31,
    "start_time": "2021-09-18T20:52:43.287Z"
   },
   {
    "duration": 30,
    "start_time": "2021-09-18T20:53:27.918Z"
   },
   {
    "duration": 6,
    "start_time": "2021-09-18T21:08:42.315Z"
   },
   {
    "duration": 7,
    "start_time": "2021-09-18T21:08:52.344Z"
   },
   {
    "duration": 4,
    "start_time": "2021-09-18T21:09:01.140Z"
   },
   {
    "duration": 54,
    "start_time": "2021-09-18T21:09:06.653Z"
   },
   {
    "duration": 360,
    "start_time": "2021-09-18T21:12:40.923Z"
   },
   {
    "duration": 542,
    "start_time": "2021-09-18T21:13:55.281Z"
   },
   {
    "duration": 700,
    "start_time": "2021-09-18T21:16:29.528Z"
   },
   {
    "duration": 631,
    "start_time": "2021-09-18T21:16:39.007Z"
   },
   {
    "duration": 576,
    "start_time": "2021-09-18T21:16:54.165Z"
   },
   {
    "duration": 11,
    "start_time": "2021-09-18T21:26:43.117Z"
   },
   {
    "duration": 19,
    "start_time": "2021-09-18T21:26:46.341Z"
   },
   {
    "duration": 10,
    "start_time": "2021-09-18T21:30:14.615Z"
   },
   {
    "duration": 98,
    "start_time": "2021-09-19T11:51:00.204Z"
   },
   {
    "duration": 5,
    "start_time": "2021-09-19T11:52:17.825Z"
   },
   {
    "duration": 19,
    "start_time": "2021-09-19T11:53:58.240Z"
   },
   {
    "duration": 10,
    "start_time": "2021-09-19T11:53:59.451Z"
   },
   {
    "duration": 5,
    "start_time": "2021-09-19T11:54:00.442Z"
   },
   {
    "duration": 322,
    "start_time": "2021-09-19T11:58:39.395Z"
   },
   {
    "duration": 3,
    "start_time": "2021-09-19T11:58:58.529Z"
   },
   {
    "duration": 254,
    "start_time": "2021-09-19T11:59:03.721Z"
   },
   {
    "duration": 13,
    "start_time": "2021-09-19T11:59:30.869Z"
   },
   {
    "duration": 3,
    "start_time": "2021-09-19T11:59:47.828Z"
   },
   {
    "duration": 29,
    "start_time": "2021-09-19T11:59:48.157Z"
   },
   {
    "duration": 10,
    "start_time": "2021-09-19T11:59:48.347Z"
   },
   {
    "duration": 7,
    "start_time": "2021-09-19T11:59:48.505Z"
   },
   {
    "duration": 13,
    "start_time": "2021-09-19T11:59:49.064Z"
   },
   {
    "duration": 4,
    "start_time": "2021-09-19T11:59:49.333Z"
   },
   {
    "duration": 6,
    "start_time": "2021-09-19T11:59:50.089Z"
   },
   {
    "duration": 6,
    "start_time": "2021-09-19T11:59:50.985Z"
   },
   {
    "duration": 30,
    "start_time": "2021-09-19T11:59:51.663Z"
   },
   {
    "duration": 572,
    "start_time": "2021-09-19T11:59:52.633Z"
   },
   {
    "duration": 11,
    "start_time": "2021-09-19T11:59:53.224Z"
   },
   {
    "duration": 11,
    "start_time": "2021-09-19T11:59:53.404Z"
   },
   {
    "duration": 6,
    "start_time": "2021-09-19T12:00:03.571Z"
   },
   {
    "duration": 8,
    "start_time": "2021-09-19T12:00:11.533Z"
   },
   {
    "duration": 8,
    "start_time": "2021-09-19T12:00:12.908Z"
   },
   {
    "duration": 5,
    "start_time": "2021-09-19T12:00:13.679Z"
   },
   {
    "duration": 6,
    "start_time": "2021-09-19T12:00:17.481Z"
   },
   {
    "duration": 9,
    "start_time": "2021-09-19T12:00:22.183Z"
   },
   {
    "duration": 8,
    "start_time": "2021-09-19T12:01:15.632Z"
   },
   {
    "duration": 80,
    "start_time": "2021-09-19T12:02:52.652Z"
   },
   {
    "duration": 3,
    "start_time": "2021-09-19T12:03:11.183Z"
   },
   {
    "duration": 251,
    "start_time": "2021-09-19T12:04:05.760Z"
   },
   {
    "duration": 255,
    "start_time": "2021-09-19T12:04:28.693Z"
   },
   {
    "duration": 640,
    "start_time": "2021-09-19T12:06:21.787Z"
   },
   {
    "duration": 691,
    "start_time": "2021-09-19T12:06:33.762Z"
   },
   {
    "duration": 5,
    "start_time": "2021-09-19T12:07:08.308Z"
   },
   {
    "duration": 5,
    "start_time": "2021-09-19T12:07:16.947Z"
   },
   {
    "duration": 5,
    "start_time": "2021-09-19T12:16:45.155Z"
   },
   {
    "duration": 5,
    "start_time": "2021-09-19T12:20:16.072Z"
   },
   {
    "duration": 6,
    "start_time": "2021-09-19T12:38:28.469Z"
   },
   {
    "duration": 6,
    "start_time": "2021-09-19T12:38:29.273Z"
   },
   {
    "duration": 2,
    "start_time": "2021-09-19T13:09:54.844Z"
   },
   {
    "duration": 166,
    "start_time": "2021-09-19T13:09:55.747Z"
   },
   {
    "duration": 4,
    "start_time": "2021-09-19T13:10:49.383Z"
   },
   {
    "duration": 4,
    "start_time": "2021-09-19T13:11:27.063Z"
   },
   {
    "duration": 3,
    "start_time": "2021-09-19T13:13:07.217Z"
   },
   {
    "duration": 28,
    "start_time": "2021-09-19T13:13:07.653Z"
   },
   {
    "duration": 11,
    "start_time": "2021-09-19T13:13:07.797Z"
   },
   {
    "duration": 8,
    "start_time": "2021-09-19T13:13:07.965Z"
   },
   {
    "duration": 13,
    "start_time": "2021-09-19T13:13:08.423Z"
   },
   {
    "duration": 4,
    "start_time": "2021-09-19T13:13:08.991Z"
   },
   {
    "duration": 7,
    "start_time": "2021-09-19T13:13:09.453Z"
   },
   {
    "duration": 7,
    "start_time": "2021-09-19T13:13:09.758Z"
   },
   {
    "duration": 31,
    "start_time": "2021-09-19T13:13:10.081Z"
   },
   {
    "duration": 574,
    "start_time": "2021-09-19T13:13:10.401Z"
   },
   {
    "duration": 13,
    "start_time": "2021-09-19T13:13:11.857Z"
   },
   {
    "duration": 11,
    "start_time": "2021-09-19T13:13:12.661Z"
   },
   {
    "duration": 6,
    "start_time": "2021-09-19T13:13:13.959Z"
   },
   {
    "duration": 10,
    "start_time": "2021-09-19T13:13:15.336Z"
   },
   {
    "duration": 7,
    "start_time": "2021-09-19T13:13:16.636Z"
   },
   {
    "duration": 4,
    "start_time": "2021-09-19T13:13:18.495Z"
   },
   {
    "duration": 5,
    "start_time": "2021-09-19T13:13:21.341Z"
   },
   {
    "duration": 9,
    "start_time": "2021-09-19T13:13:32.803Z"
   },
   {
    "duration": 4,
    "start_time": "2021-09-19T13:14:21.183Z"
   },
   {
    "duration": 4,
    "start_time": "2021-09-19T13:14:27.860Z"
   },
   {
    "duration": 7,
    "start_time": "2021-09-19T13:14:52.299Z"
   },
   {
    "duration": 41,
    "start_time": "2021-09-19T13:14:52.860Z"
   },
   {
    "duration": 3,
    "start_time": "2021-09-19T13:15:18.943Z"
   },
   {
    "duration": 15,
    "start_time": "2021-09-19T13:15:19.508Z"
   },
   {
    "duration": 3,
    "start_time": "2021-09-19T13:15:26.577Z"
   },
   {
    "duration": 28,
    "start_time": "2021-09-19T13:15:27.025Z"
   },
   {
    "duration": 10,
    "start_time": "2021-09-19T13:15:27.179Z"
   },
   {
    "duration": 8,
    "start_time": "2021-09-19T13:15:27.325Z"
   },
   {
    "duration": 13,
    "start_time": "2021-09-19T13:15:27.776Z"
   },
   {
    "duration": 4,
    "start_time": "2021-09-19T13:15:28.054Z"
   },
   {
    "duration": 6,
    "start_time": "2021-09-19T13:15:28.542Z"
   },
   {
    "duration": 6,
    "start_time": "2021-09-19T13:15:28.850Z"
   },
   {
    "duration": 31,
    "start_time": "2021-09-19T13:15:29.141Z"
   },
   {
    "duration": 672,
    "start_time": "2021-09-19T13:15:29.460Z"
   },
   {
    "duration": 12,
    "start_time": "2021-09-19T13:15:32.253Z"
   },
   {
    "duration": 11,
    "start_time": "2021-09-19T13:15:32.656Z"
   },
   {
    "duration": 5,
    "start_time": "2021-09-19T13:15:33.451Z"
   },
   {
    "duration": 9,
    "start_time": "2021-09-19T13:15:33.855Z"
   },
   {
    "duration": 8,
    "start_time": "2021-09-19T13:15:34.540Z"
   },
   {
    "duration": 4,
    "start_time": "2021-09-19T13:15:35.156Z"
   },
   {
    "duration": 5,
    "start_time": "2021-09-19T13:15:35.753Z"
   },
   {
    "duration": 10,
    "start_time": "2021-09-19T13:15:36.104Z"
   },
   {
    "duration": 8,
    "start_time": "2021-09-19T13:15:37.444Z"
   },
   {
    "duration": 2,
    "start_time": "2021-09-19T13:15:37.986Z"
   },
   {
    "duration": 36,
    "start_time": "2021-09-19T13:15:38.553Z"
   },
   {
    "duration": 11,
    "start_time": "2021-09-19T13:15:49.383Z"
   },
   {
    "duration": 7,
    "start_time": "2021-09-19T13:16:00.292Z"
   },
   {
    "duration": 3,
    "start_time": "2021-09-19T13:16:00.992Z"
   },
   {
    "duration": 16,
    "start_time": "2021-09-19T13:16:01.313Z"
   },
   {
    "duration": 1201,
    "start_time": "2021-09-19T13:16:17.542Z"
   },
   {
    "duration": 31,
    "start_time": "2021-09-19T13:16:18.745Z"
   },
   {
    "duration": 15,
    "start_time": "2021-09-19T13:16:18.777Z"
   },
   {
    "duration": 12,
    "start_time": "2021-09-19T13:16:18.794Z"
   },
   {
    "duration": 15,
    "start_time": "2021-09-19T13:16:18.900Z"
   },
   {
    "duration": 5,
    "start_time": "2021-09-19T13:16:19.193Z"
   },
   {
    "duration": 8,
    "start_time": "2021-09-19T13:16:19.503Z"
   },
   {
    "duration": 6,
    "start_time": "2021-09-19T13:16:19.781Z"
   },
   {
    "duration": 35,
    "start_time": "2021-09-19T13:16:20.064Z"
   },
   {
    "duration": 604,
    "start_time": "2021-09-19T13:16:20.384Z"
   },
   {
    "duration": 12,
    "start_time": "2021-09-19T13:16:21.058Z"
   },
   {
    "duration": 11,
    "start_time": "2021-09-19T13:16:21.232Z"
   },
   {
    "duration": 6,
    "start_time": "2021-09-19T13:16:21.728Z"
   },
   {
    "duration": 11,
    "start_time": "2021-09-19T13:16:22.521Z"
   },
   {
    "duration": 10,
    "start_time": "2021-09-19T13:16:23.057Z"
   },
   {
    "duration": 4,
    "start_time": "2021-09-19T13:16:23.840Z"
   },
   {
    "duration": 6,
    "start_time": "2021-09-19T13:16:24.228Z"
   },
   {
    "duration": 9,
    "start_time": "2021-09-19T13:16:24.953Z"
   },
   {
    "duration": 3,
    "start_time": "2021-09-19T13:16:25.151Z"
   },
   {
    "duration": 41,
    "start_time": "2021-09-19T13:16:25.330Z"
   },
   {
    "duration": 2,
    "start_time": "2021-09-19T13:16:58.498Z"
   },
   {
    "duration": 14,
    "start_time": "2021-09-19T13:17:00.282Z"
   },
   {
    "duration": 21,
    "start_time": "2021-09-19T13:18:39.332Z"
   },
   {
    "duration": 940,
    "start_time": "2021-09-19T13:19:26.903Z"
   },
   {
    "duration": 3,
    "start_time": "2021-09-19T13:19:55.276Z"
   },
   {
    "duration": 258,
    "start_time": "2021-09-19T13:20:00.219Z"
   },
   {
    "duration": 5,
    "start_time": "2021-09-19T13:20:11.276Z"
   },
   {
    "duration": 5,
    "start_time": "2021-09-19T13:20:19.345Z"
   },
   {
    "duration": 5,
    "start_time": "2021-09-19T13:20:28.045Z"
   },
   {
    "duration": 7,
    "start_time": "2021-09-19T13:20:31.353Z"
   },
   {
    "duration": 113,
    "start_time": "2021-09-19T13:25:19.932Z"
   },
   {
    "duration": 248,
    "start_time": "2021-09-19T13:27:05.250Z"
   },
   {
    "duration": 113,
    "start_time": "2021-09-19T13:27:35.596Z"
   },
   {
    "duration": 4948,
    "start_time": "2021-09-19T13:31:30.405Z"
   },
   {
    "duration": 7998,
    "start_time": "2021-09-19T13:32:02.084Z"
   },
   {
    "duration": 4,
    "start_time": "2021-09-19T14:11:54.751Z"
   },
   {
    "duration": 4,
    "start_time": "2021-09-19T14:11:55.231Z"
   },
   {
    "duration": 7,
    "start_time": "2021-09-19T19:59:32.703Z"
   },
   {
    "duration": 3267,
    "start_time": "2021-09-19T20:00:14.289Z"
   },
   {
    "duration": 5599,
    "start_time": "2021-09-19T20:00:22.961Z"
   },
   {
    "duration": 5,
    "start_time": "2021-09-19T20:00:34.316Z"
   },
   {
    "duration": 3,
    "start_time": "2021-09-19T20:00:42.929Z"
   },
   {
    "duration": 3,
    "start_time": "2021-09-19T20:00:52.487Z"
   },
   {
    "duration": 28,
    "start_time": "2021-09-19T20:00:52.908Z"
   },
   {
    "duration": 11,
    "start_time": "2021-09-19T20:00:53.048Z"
   },
   {
    "duration": 8,
    "start_time": "2021-09-19T20:00:53.176Z"
   },
   {
    "duration": 13,
    "start_time": "2021-09-19T20:00:53.607Z"
   },
   {
    "duration": 4,
    "start_time": "2021-09-19T20:00:53.911Z"
   },
   {
    "duration": 6,
    "start_time": "2021-09-19T20:00:54.243Z"
   },
   {
    "duration": 7,
    "start_time": "2021-09-19T20:00:54.553Z"
   },
   {
    "duration": 32,
    "start_time": "2021-09-19T20:00:54.940Z"
   },
   {
    "duration": 566,
    "start_time": "2021-09-19T20:00:55.347Z"
   },
   {
    "duration": 12,
    "start_time": "2021-09-19T20:00:55.992Z"
   },
   {
    "duration": 10,
    "start_time": "2021-09-19T20:00:56.164Z"
   },
   {
    "duration": 5,
    "start_time": "2021-09-19T20:00:56.975Z"
   },
   {
    "duration": 8,
    "start_time": "2021-09-19T20:00:57.298Z"
   },
   {
    "duration": 8,
    "start_time": "2021-09-19T20:00:57.605Z"
   },
   {
    "duration": 4,
    "start_time": "2021-09-19T20:00:57.904Z"
   },
   {
    "duration": 5,
    "start_time": "2021-09-19T20:00:58.341Z"
   },
   {
    "duration": 6,
    "start_time": "2021-09-19T20:00:58.666Z"
   },
   {
    "duration": 3,
    "start_time": "2021-09-19T20:00:58.797Z"
   },
   {
    "duration": 37,
    "start_time": "2021-09-19T20:00:59.082Z"
   },
   {
    "duration": 2,
    "start_time": "2021-09-19T20:01:00.091Z"
   },
   {
    "duration": 22,
    "start_time": "2021-09-19T20:01:00.246Z"
   },
   {
    "duration": 6,
    "start_time": "2021-09-19T20:01:00.445Z"
   },
   {
    "duration": 168,
    "start_time": "2021-09-19T20:01:00.900Z"
   },
   {
    "duration": 7843,
    "start_time": "2021-09-19T20:01:01.821Z"
   },
   {
    "duration": 3,
    "start_time": "2021-09-19T20:01:09.666Z"
   },
   {
    "duration": 16,
    "start_time": "2021-09-19T20:01:09.671Z"
   },
   {
    "duration": 15,
    "start_time": "2021-09-19T20:01:09.688Z"
   },
   {
    "duration": 4,
    "start_time": "2021-09-19T20:02:18.045Z"
   },
   {
    "duration": 4,
    "start_time": "2021-09-19T20:02:28.528Z"
   },
   {
    "duration": 4,
    "start_time": "2021-09-19T20:02:32.336Z"
   },
   {
    "duration": 4,
    "start_time": "2021-09-19T20:02:35.572Z"
   },
   {
    "duration": 4,
    "start_time": "2021-09-19T20:03:03.717Z"
   },
   {
    "duration": 5,
    "start_time": "2021-09-19T20:03:12.573Z"
   },
   {
    "duration": 4,
    "start_time": "2021-09-19T20:04:34.891Z"
   },
   {
    "duration": 5,
    "start_time": "2021-09-19T20:04:43.321Z"
   },
   {
    "duration": 4,
    "start_time": "2021-09-19T20:04:48.056Z"
   },
   {
    "duration": 5,
    "start_time": "2021-09-19T20:04:51.665Z"
   },
   {
    "duration": 5,
    "start_time": "2021-09-19T20:05:00.635Z"
   },
   {
    "duration": 4,
    "start_time": "2021-09-19T20:05:04.141Z"
   },
   {
    "duration": 5,
    "start_time": "2021-09-19T20:05:08.044Z"
   },
   {
    "duration": 5,
    "start_time": "2021-09-19T20:05:21.693Z"
   },
   {
    "duration": 4,
    "start_time": "2021-09-19T20:07:06.984Z"
   },
   {
    "duration": 292,
    "start_time": "2021-09-19T20:07:29.057Z"
   },
   {
    "duration": 503,
    "start_time": "2021-09-19T20:07:38.822Z"
   },
   {
    "duration": 494,
    "start_time": "2021-09-19T20:08:05.744Z"
   },
   {
    "duration": 4,
    "start_time": "2021-09-19T20:08:44.148Z"
   },
   {
    "duration": 9,
    "start_time": "2021-09-19T20:08:50.334Z"
   },
   {
    "duration": 481,
    "start_time": "2021-09-19T20:08:55.770Z"
   },
   {
    "duration": 511,
    "start_time": "2021-09-19T20:09:05.718Z"
   },
   {
    "duration": 13,
    "start_time": "2021-09-19T20:09:19.497Z"
   },
   {
    "duration": 4,
    "start_time": "2021-09-19T20:09:47.449Z"
   },
   {
    "duration": 5,
    "start_time": "2021-09-19T20:09:59.368Z"
   },
   {
    "duration": 3,
    "start_time": "2021-09-19T20:10:42.924Z"
   },
   {
    "duration": 14,
    "start_time": "2021-09-19T20:11:01.862Z"
   },
   {
    "duration": 4,
    "start_time": "2021-09-19T20:11:02.517Z"
   },
   {
    "duration": 4,
    "start_time": "2021-09-19T20:11:23.737Z"
   },
   {
    "duration": 510,
    "start_time": "2021-09-19T20:13:06.834Z"
   },
   {
    "duration": 13,
    "start_time": "2021-09-19T20:13:22.583Z"
   },
   {
    "duration": 4,
    "start_time": "2021-09-19T20:13:45.078Z"
   },
   {
    "duration": 3,
    "start_time": "2021-09-19T20:23:07.883Z"
   },
   {
    "duration": 10,
    "start_time": "2021-09-19T20:23:08.324Z"
   },
   {
    "duration": 72,
    "start_time": "2021-09-19T20:23:12.273Z"
   },
   {
    "duration": 30,
    "start_time": "2021-09-19T20:24:26.416Z"
   },
   {
    "duration": 29,
    "start_time": "2021-09-19T20:24:41.417Z"
   },
   {
    "duration": 28,
    "start_time": "2021-09-19T20:24:46.917Z"
   },
   {
    "duration": 3,
    "start_time": "2021-09-19T20:25:44.318Z"
   },
   {
    "duration": 40,
    "start_time": "2021-09-19T20:25:44.705Z"
   },
   {
    "duration": 3,
    "start_time": "2021-09-19T20:26:58.622Z"
   },
   {
    "duration": 15,
    "start_time": "2021-09-19T20:26:58.794Z"
   },
   {
    "duration": 6,
    "start_time": "2021-09-19T20:26:58.955Z"
   },
   {
    "duration": 109,
    "start_time": "2021-09-19T20:26:59.412Z"
   },
   {
    "duration": 8025,
    "start_time": "2021-09-19T20:26:59.902Z"
   },
   {
    "duration": 3,
    "start_time": "2021-09-19T20:27:07.929Z"
   },
   {
    "duration": 13,
    "start_time": "2021-09-19T20:27:07.934Z"
   },
   {
    "duration": 16,
    "start_time": "2021-09-19T20:27:07.949Z"
   },
   {
    "duration": 4,
    "start_time": "2021-09-19T20:27:07.966Z"
   },
   {
    "duration": 14,
    "start_time": "2021-09-19T20:27:07.971Z"
   },
   {
    "duration": 3,
    "start_time": "2021-09-19T20:27:07.987Z"
   },
   {
    "duration": 3,
    "start_time": "2021-09-19T20:27:16.405Z"
   },
   {
    "duration": 47,
    "start_time": "2021-09-19T20:27:17.702Z"
   },
   {
    "duration": 22,
    "start_time": "2021-09-19T20:27:50.606Z"
   },
   {
    "duration": 66,
    "start_time": "2021-09-19T20:28:01.680Z"
   },
   {
    "duration": 138,
    "start_time": "2021-09-19T20:28:46.913Z"
   },
   {
    "duration": 119,
    "start_time": "2021-09-19T20:34:39.868Z"
   },
   {
    "duration": 115,
    "start_time": "2021-09-19T20:35:22.914Z"
   },
   {
    "duration": 122,
    "start_time": "2021-09-19T20:35:30.371Z"
   },
   {
    "duration": 258,
    "start_time": "2021-09-19T20:38:04.794Z"
   },
   {
    "duration": 320,
    "start_time": "2021-09-19T20:39:15.580Z"
   },
   {
    "duration": 8288,
    "start_time": "2021-09-19T22:43:00.773Z"
   },
   {
    "duration": 19206,
    "start_time": "2021-09-19T22:44:52.104Z"
   },
   {
    "duration": 23459,
    "start_time": "2021-09-19T22:46:19.875Z"
   },
   {
    "duration": 1072,
    "start_time": "2021-09-19T22:51:29.962Z"
   },
   {
    "duration": 28,
    "start_time": "2021-09-19T22:51:31.036Z"
   },
   {
    "duration": 13,
    "start_time": "2021-09-19T22:51:31.066Z"
   },
   {
    "duration": 15,
    "start_time": "2021-09-19T22:51:31.081Z"
   },
   {
    "duration": 15,
    "start_time": "2021-09-19T22:51:31.517Z"
   },
   {
    "duration": 4,
    "start_time": "2021-09-19T22:51:31.869Z"
   },
   {
    "duration": 12,
    "start_time": "2021-09-19T22:51:32.446Z"
   },
   {
    "duration": 6,
    "start_time": "2021-09-19T22:51:32.860Z"
   },
   {
    "duration": 30,
    "start_time": "2021-09-19T22:51:33.790Z"
   },
   {
    "duration": 610,
    "start_time": "2021-09-19T22:51:34.635Z"
   },
   {
    "duration": 12,
    "start_time": "2021-09-19T22:51:35.884Z"
   },
   {
    "duration": 9,
    "start_time": "2021-09-19T22:51:36.299Z"
   },
   {
    "duration": 5,
    "start_time": "2021-09-19T22:51:37.367Z"
   },
   {
    "duration": 9,
    "start_time": "2021-09-19T22:51:37.723Z"
   },
   {
    "duration": 8,
    "start_time": "2021-09-19T22:51:38.061Z"
   },
   {
    "duration": 4,
    "start_time": "2021-09-19T22:51:38.401Z"
   },
   {
    "duration": 5,
    "start_time": "2021-09-19T22:51:38.735Z"
   },
   {
    "duration": 9,
    "start_time": "2021-09-19T22:51:39.075Z"
   },
   {
    "duration": 3,
    "start_time": "2021-09-19T22:51:39.252Z"
   },
   {
    "duration": 38,
    "start_time": "2021-09-19T22:51:39.419Z"
   },
   {
    "duration": 3,
    "start_time": "2021-09-19T22:51:40.118Z"
   },
   {
    "duration": 22,
    "start_time": "2021-09-19T22:51:40.280Z"
   },
   {
    "duration": 5,
    "start_time": "2021-09-19T22:51:40.445Z"
   },
   {
    "duration": 107,
    "start_time": "2021-09-19T22:51:40.928Z"
   },
   {
    "duration": 8697,
    "start_time": "2021-09-19T22:51:41.434Z"
   },
   {
    "duration": 11,
    "start_time": "2021-09-19T22:51:50.133Z"
   },
   {
    "duration": 13,
    "start_time": "2021-09-19T22:51:50.146Z"
   },
   {
    "duration": 18,
    "start_time": "2021-09-19T22:51:50.161Z"
   },
   {
    "duration": 3,
    "start_time": "2021-09-19T22:51:50.181Z"
   },
   {
    "duration": 19,
    "start_time": "2021-09-19T22:51:50.185Z"
   },
   {
    "duration": 4,
    "start_time": "2021-09-19T22:51:50.205Z"
   },
   {
    "duration": 7,
    "start_time": "2021-09-19T22:51:50.211Z"
   },
   {
    "duration": 326,
    "start_time": "2021-09-19T22:51:50.219Z"
   },
   {
    "duration": 400,
    "start_time": "2021-09-19T22:51:50.547Z"
   },
   {
    "duration": 23156,
    "start_time": "2021-09-19T22:51:50.949Z"
   },
   {
    "duration": 477,
    "start_time": "2021-09-20T08:29:57.097Z"
   },
   {
    "duration": 310,
    "start_time": "2021-09-20T08:30:20.992Z"
   },
   {
    "duration": 13,
    "start_time": "2021-09-20T08:30:32.289Z"
   },
   {
    "duration": 4,
    "start_time": "2021-09-20T08:31:34.138Z"
   },
   {
    "duration": 6,
    "start_time": "2021-09-20T08:32:01.816Z"
   },
   {
    "duration": 6,
    "start_time": "2021-09-20T08:34:30.083Z"
   },
   {
    "duration": 204,
    "start_time": "2021-09-20T08:42:48.949Z"
   },
   {
    "duration": 376,
    "start_time": "2021-09-20T08:43:04.269Z"
   },
   {
    "duration": 202,
    "start_time": "2021-09-20T08:43:24.050Z"
   },
   {
    "duration": 327,
    "start_time": "2021-09-20T08:45:40.903Z"
   },
   {
    "duration": 233,
    "start_time": "2021-09-20T08:48:23.316Z"
   },
   {
    "duration": 325,
    "start_time": "2021-09-20T08:49:49.539Z"
   },
   {
    "duration": 192,
    "start_time": "2021-09-20T08:49:59.618Z"
   },
   {
    "duration": 260,
    "start_time": "2021-09-20T08:50:13.353Z"
   },
   {
    "duration": 248,
    "start_time": "2021-09-20T08:50:40.599Z"
   },
   {
    "duration": 2,
    "start_time": "2021-09-20T09:02:03.790Z"
   },
   {
    "duration": 221,
    "start_time": "2021-09-20T09:02:03.924Z"
   },
   {
    "duration": 303,
    "start_time": "2021-09-20T09:02:04.147Z"
   },
   {
    "duration": 315,
    "start_time": "2021-09-20T09:02:04.638Z"
   },
   {
    "duration": 24487,
    "start_time": "2021-09-20T09:02:05.371Z"
   },
   {
    "duration": 179,
    "start_time": "2021-09-20T09:03:13.662Z"
   },
   {
    "duration": 398,
    "start_time": "2021-09-20T09:04:15.945Z"
   },
   {
    "duration": 320,
    "start_time": "2021-09-20T09:06:17.344Z"
   },
   {
    "duration": 461,
    "start_time": "2021-09-20T09:06:46.767Z"
   },
   {
    "duration": 451,
    "start_time": "2021-09-20T09:07:04.000Z"
   },
   {
    "duration": 25161,
    "start_time": "2021-09-20T09:10:33.016Z"
   },
   {
    "duration": 54,
    "start_time": "2021-09-20T09:14:43.320Z"
   },
   {
    "duration": 57,
    "start_time": "2021-09-20T09:15:55.692Z"
   },
   {
    "duration": 66,
    "start_time": "2021-09-20T09:16:32.002Z"
   },
   {
    "duration": 61,
    "start_time": "2021-09-20T09:16:41.854Z"
   },
   {
    "duration": 378,
    "start_time": "2021-09-20T09:17:40.967Z"
   },
   {
    "duration": 176,
    "start_time": "2021-09-20T09:19:00.110Z"
   },
   {
    "duration": 175,
    "start_time": "2021-09-20T09:20:00.137Z"
   },
   {
    "duration": 472,
    "start_time": "2021-09-20T09:20:54.302Z"
   },
   {
    "duration": 3,
    "start_time": "2021-09-20T09:23:50.966Z"
   },
   {
    "duration": 28,
    "start_time": "2021-09-20T09:23:51.409Z"
   },
   {
    "duration": 10,
    "start_time": "2021-09-20T09:23:51.566Z"
   },
   {
    "duration": 8,
    "start_time": "2021-09-20T09:23:51.729Z"
   },
   {
    "duration": 15,
    "start_time": "2021-09-20T09:23:52.172Z"
   },
   {
    "duration": 5,
    "start_time": "2021-09-20T09:23:52.488Z"
   },
   {
    "duration": 6,
    "start_time": "2021-09-20T09:23:52.813Z"
   },
   {
    "duration": 6,
    "start_time": "2021-09-20T09:23:53.204Z"
   },
   {
    "duration": 40,
    "start_time": "2021-09-20T09:23:53.540Z"
   },
   {
    "duration": 624,
    "start_time": "2021-09-20T09:23:53.802Z"
   },
   {
    "duration": 27,
    "start_time": "2021-09-20T09:23:54.428Z"
   },
   {
    "duration": 15,
    "start_time": "2021-09-20T09:23:54.457Z"
   },
   {
    "duration": 7,
    "start_time": "2021-09-20T09:23:54.851Z"
   },
   {
    "duration": 10,
    "start_time": "2021-09-20T09:23:55.160Z"
   },
   {
    "duration": 10,
    "start_time": "2021-09-20T09:23:55.454Z"
   },
   {
    "duration": 9,
    "start_time": "2021-09-20T09:23:55.755Z"
   },
   {
    "duration": 7,
    "start_time": "2021-09-20T09:23:56.066Z"
   },
   {
    "duration": 9,
    "start_time": "2021-09-20T09:23:56.358Z"
   },
   {
    "duration": 3,
    "start_time": "2021-09-20T09:23:56.514Z"
   },
   {
    "duration": 58,
    "start_time": "2021-09-20T09:23:56.663Z"
   },
   {
    "duration": 3,
    "start_time": "2021-09-20T09:23:57.264Z"
   },
   {
    "duration": 28,
    "start_time": "2021-09-20T09:23:57.416Z"
   },
   {
    "duration": 6,
    "start_time": "2021-09-20T09:23:57.576Z"
   },
   {
    "duration": 161,
    "start_time": "2021-09-20T09:23:58.070Z"
   },
   {
    "duration": 12366,
    "start_time": "2021-09-20T09:23:58.529Z"
   },
   {
    "duration": 5,
    "start_time": "2021-09-20T09:24:10.897Z"
   },
   {
    "duration": 27,
    "start_time": "2021-09-20T09:24:10.904Z"
   },
   {
    "duration": 30,
    "start_time": "2021-09-20T09:24:10.933Z"
   },
   {
    "duration": 8,
    "start_time": "2021-09-20T09:24:10.965Z"
   },
   {
    "duration": 28,
    "start_time": "2021-09-20T09:24:10.974Z"
   },
   {
    "duration": 8,
    "start_time": "2021-09-20T09:24:11.003Z"
   },
   {
    "duration": 31,
    "start_time": "2021-09-20T09:24:11.014Z"
   },
   {
    "duration": 12,
    "start_time": "2021-09-20T09:24:11.048Z"
   },
   {
    "duration": 195,
    "start_time": "2021-09-20T09:24:11.062Z"
   },
   {
    "duration": 426,
    "start_time": "2021-09-20T09:24:11.259Z"
   },
   {
    "duration": 32675,
    "start_time": "2021-09-20T09:24:11.687Z"
   },
   {
    "duration": 283,
    "start_time": "2021-09-20T09:24:44.364Z"
   },
   {
    "duration": 149,
    "start_time": "2021-09-20T09:24:44.649Z"
   },
   {
    "duration": 365,
    "start_time": "2021-09-20T09:24:44.800Z"
   },
   {
    "duration": 686,
    "start_time": "2021-09-20T09:24:45.166Z"
   },
   {
    "duration": 3,
    "start_time": "2021-09-20T09:27:55.769Z"
   },
   {
    "duration": 264,
    "start_time": "2021-09-20T09:31:05.756Z"
   },
   {
    "duration": 259,
    "start_time": "2021-09-20T09:31:06.360Z"
   },
   {
    "duration": 261,
    "start_time": "2021-09-20T09:31:14.923Z"
   },
   {
    "duration": 4,
    "start_time": "2021-09-20T09:31:43.179Z"
   },
   {
    "duration": 3,
    "start_time": "2021-09-20T09:31:44.076Z"
   },
   {
    "duration": 7,
    "start_time": "2021-09-20T09:31:49.232Z"
   },
   {
    "duration": 3,
    "start_time": "2021-09-20T09:32:21.161Z"
   },
   {
    "duration": 7,
    "start_time": "2021-09-20T09:32:23.282Z"
   },
   {
    "duration": 4,
    "start_time": "2021-09-20T09:32:38.183Z"
   },
   {
    "duration": 7,
    "start_time": "2021-09-20T09:32:38.699Z"
   },
   {
    "duration": 4,
    "start_time": "2021-09-20T09:33:20.458Z"
   },
   {
    "duration": 4,
    "start_time": "2021-09-20T09:33:20.744Z"
   },
   {
    "duration": 7,
    "start_time": "2021-09-20T09:33:21.214Z"
   },
   {
    "duration": 5,
    "start_time": "2021-09-20T09:33:30.015Z"
   },
   {
    "duration": 9,
    "start_time": "2021-09-20T09:33:34.610Z"
   },
   {
    "duration": 4,
    "start_time": "2021-09-20T09:34:49.726Z"
   },
   {
    "duration": 10,
    "start_time": "2021-09-20T09:34:50.283Z"
   },
   {
    "duration": 5,
    "start_time": "2021-09-20T09:35:03.312Z"
   },
   {
    "duration": 292,
    "start_time": "2021-09-20T09:35:03.750Z"
   },
   {
    "duration": 6,
    "start_time": "2021-09-20T09:35:04.271Z"
   },
   {
    "duration": 84,
    "start_time": "2021-09-20T09:35:28.777Z"
   },
   {
    "duration": 87,
    "start_time": "2021-09-20T09:36:43.826Z"
   },
   {
    "duration": 252,
    "start_time": "2021-09-20T09:36:50.912Z"
   },
   {
    "duration": 260,
    "start_time": "2021-09-20T09:36:57.103Z"
   },
   {
    "duration": 4,
    "start_time": "2021-09-20T09:37:57.487Z"
   },
   {
    "duration": 2,
    "start_time": "2021-09-20T09:37:57.876Z"
   },
   {
    "duration": 7,
    "start_time": "2021-09-20T09:37:58.958Z"
   },
   {
    "duration": 4,
    "start_time": "2021-09-20T09:39:16.075Z"
   },
   {
    "duration": 7,
    "start_time": "2021-09-20T09:39:16.745Z"
   },
   {
    "duration": 269,
    "start_time": "2021-09-20T09:40:11.623Z"
   },
   {
    "duration": 266,
    "start_time": "2021-09-20T09:41:00.029Z"
   },
   {
    "duration": 18,
    "start_time": "2021-09-20T09:41:41.095Z"
   },
   {
    "duration": 3,
    "start_time": "2021-09-20T09:41:41.982Z"
   },
   {
    "duration": 5,
    "start_time": "2021-09-20T09:42:00.382Z"
   },
   {
    "duration": 8,
    "start_time": "2021-09-20T09:42:01.173Z"
   },
   {
    "duration": 86,
    "start_time": "2021-09-20T09:42:35.801Z"
   },
   {
    "duration": 4,
    "start_time": "2021-09-20T09:42:47.079Z"
   },
   {
    "duration": 5,
    "start_time": "2021-09-20T09:43:08.218Z"
   },
   {
    "duration": 7,
    "start_time": "2021-09-20T09:43:09.040Z"
   },
   {
    "duration": 5,
    "start_time": "2021-09-20T09:43:35.295Z"
   },
   {
    "duration": 7,
    "start_time": "2021-09-20T09:43:36.231Z"
   },
   {
    "duration": 313,
    "start_time": "2021-09-20T09:46:13.874Z"
   },
   {
    "duration": 270,
    "start_time": "2021-09-20T09:46:37.582Z"
   },
   {
    "duration": 168,
    "start_time": "2021-09-20T09:46:52.186Z"
   },
   {
    "duration": 5,
    "start_time": "2021-09-20T09:47:14.067Z"
   },
   {
    "duration": 10,
    "start_time": "2021-09-20T09:47:23.342Z"
   },
   {
    "duration": 3,
    "start_time": "2021-09-20T09:48:09.215Z"
   },
   {
    "duration": 147,
    "start_time": "2021-09-20T09:48:09.620Z"
   },
   {
    "duration": 8,
    "start_time": "2021-09-20T09:49:01.840Z"
   },
   {
    "duration": 9,
    "start_time": "2021-09-20T09:49:02.233Z"
   },
   {
    "duration": 252,
    "start_time": "2021-09-20T09:52:36.197Z"
   },
   {
    "duration": 5,
    "start_time": "2021-09-20T09:53:02.289Z"
   },
   {
    "duration": 6,
    "start_time": "2021-09-20T09:53:04.262Z"
   },
   {
    "duration": 64,
    "start_time": "2021-09-20T09:53:55.988Z"
   },
   {
    "duration": 243,
    "start_time": "2021-09-20T09:54:25.112Z"
   },
   {
    "duration": 61,
    "start_time": "2021-09-20T09:55:07.167Z"
   },
   {
    "duration": 6,
    "start_time": "2021-09-20T09:55:29.438Z"
   },
   {
    "duration": 7,
    "start_time": "2021-09-20T09:55:30.697Z"
   },
   {
    "duration": 317,
    "start_time": "2021-09-20T09:56:49.989Z"
   },
   {
    "duration": 344,
    "start_time": "2021-09-20T09:57:43.900Z"
   },
   {
    "duration": 373,
    "start_time": "2021-09-20T09:57:57.620Z"
   },
   {
    "duration": 384,
    "start_time": "2021-09-20T09:58:18.323Z"
   },
   {
    "duration": 71,
    "start_time": "2021-09-20T09:58:59.013Z"
   },
   {
    "duration": 302,
    "start_time": "2021-09-20T09:59:29.348Z"
   },
   {
    "duration": 78,
    "start_time": "2021-09-20T09:59:30.705Z"
   },
   {
    "duration": 362,
    "start_time": "2021-09-20T09:59:32.008Z"
   },
   {
    "duration": 8,
    "start_time": "2021-09-20T10:00:01.753Z"
   },
   {
    "duration": 7,
    "start_time": "2021-09-20T10:00:02.611Z"
   },
   {
    "duration": 255,
    "start_time": "2021-09-20T10:00:36.512Z"
   },
   {
    "duration": 7,
    "start_time": "2021-09-20T10:00:37.084Z"
   },
   {
    "duration": 358,
    "start_time": "2021-09-20T10:00:51.542Z"
   },
   {
    "duration": 5,
    "start_time": "2021-09-20T10:00:52.816Z"
   },
   {
    "duration": 7,
    "start_time": "2021-09-20T10:00:55.679Z"
   },
   {
    "duration": 346,
    "start_time": "2021-09-20T10:02:41.323Z"
   },
   {
    "duration": 5,
    "start_time": "2021-09-20T10:02:44.217Z"
   },
   {
    "duration": 8,
    "start_time": "2021-09-20T10:02:44.676Z"
   },
   {
    "duration": 310,
    "start_time": "2021-09-20T10:15:24.748Z"
   },
   {
    "duration": 280,
    "start_time": "2021-09-20T10:15:52.833Z"
   },
   {
    "duration": 20,
    "start_time": "2021-09-20T10:16:15.771Z"
   },
   {
    "duration": 27,
    "start_time": "2021-09-20T10:16:23.618Z"
   },
   {
    "duration": 23,
    "start_time": "2021-09-20T10:16:35.656Z"
   },
   {
    "duration": 349,
    "start_time": "2021-09-20T10:17:17.213Z"
   },
   {
    "duration": 21,
    "start_time": "2021-09-20T10:17:38.819Z"
   },
   {
    "duration": 6,
    "start_time": "2021-09-20T10:19:52.548Z"
   },
   {
    "duration": 5,
    "start_time": "2021-09-20T10:20:00.645Z"
   },
   {
    "duration": 10,
    "start_time": "2021-09-20T10:21:25.009Z"
   },
   {
    "duration": 285,
    "start_time": "2021-09-20T10:23:28.242Z"
   },
   {
    "duration": 7,
    "start_time": "2021-09-20T10:23:44.098Z"
   },
   {
    "duration": 9,
    "start_time": "2021-09-20T10:24:59.351Z"
   },
   {
    "duration": 226,
    "start_time": "2021-09-20T10:28:58.040Z"
   },
   {
    "duration": 87,
    "start_time": "2021-09-20T10:29:57.977Z"
   },
   {
    "duration": 223,
    "start_time": "2021-09-20T10:30:11.134Z"
   },
   {
    "duration": 246,
    "start_time": "2021-09-20T10:30:54.842Z"
   },
   {
    "duration": 14,
    "start_time": "2021-09-20T10:34:00.952Z"
   },
   {
    "duration": 26,
    "start_time": "2021-09-20T10:37:16.433Z"
   },
   {
    "duration": 5,
    "start_time": "2021-09-20T10:37:17.135Z"
   },
   {
    "duration": 10,
    "start_time": "2021-09-20T10:37:17.999Z"
   },
   {
    "duration": 269,
    "start_time": "2021-09-20T10:37:18.854Z"
   },
   {
    "duration": 11,
    "start_time": "2021-09-20T10:38:18.950Z"
   },
   {
    "duration": 4,
    "start_time": "2021-09-20T10:38:40.239Z"
   },
   {
    "duration": 4,
    "start_time": "2021-09-20T10:40:12.264Z"
   },
   {
    "duration": 249,
    "start_time": "2021-09-20T10:40:46.246Z"
   },
   {
    "duration": 87,
    "start_time": "2021-09-20T11:15:25.415Z"
   },
   {
    "duration": 1076,
    "start_time": "2021-09-20T13:28:50.342Z"
   },
   {
    "duration": 37,
    "start_time": "2021-09-20T13:28:51.419Z"
   },
   {
    "duration": 14,
    "start_time": "2021-09-20T13:28:51.458Z"
   },
   {
    "duration": 15,
    "start_time": "2021-09-20T13:28:51.473Z"
   },
   {
    "duration": 15,
    "start_time": "2021-09-20T13:28:51.490Z"
   },
   {
    "duration": 4,
    "start_time": "2021-09-20T13:28:51.730Z"
   },
   {
    "duration": 12,
    "start_time": "2021-09-20T13:28:52.023Z"
   },
   {
    "duration": 7,
    "start_time": "2021-09-20T13:28:52.302Z"
   },
   {
    "duration": 37,
    "start_time": "2021-09-20T13:28:52.625Z"
   },
   {
    "duration": 573,
    "start_time": "2021-09-20T13:28:52.959Z"
   },
   {
    "duration": 22,
    "start_time": "2021-09-20T13:28:53.535Z"
   },
   {
    "duration": 12,
    "start_time": "2021-09-20T13:28:53.616Z"
   },
   {
    "duration": 6,
    "start_time": "2021-09-20T13:28:54.083Z"
   },
   {
    "duration": 10,
    "start_time": "2021-09-20T13:28:54.403Z"
   },
   {
    "duration": 10,
    "start_time": "2021-09-20T13:28:54.722Z"
   },
   {
    "duration": 4,
    "start_time": "2021-09-20T13:28:55.057Z"
   },
   {
    "duration": 4,
    "start_time": "2021-09-20T13:28:55.390Z"
   },
   {
    "duration": 8,
    "start_time": "2021-09-20T13:28:55.707Z"
   },
   {
    "duration": 2,
    "start_time": "2021-09-20T13:28:55.884Z"
   },
   {
    "duration": 39,
    "start_time": "2021-09-20T13:28:56.059Z"
   },
   {
    "duration": 3,
    "start_time": "2021-09-20T13:28:56.713Z"
   },
   {
    "duration": 21,
    "start_time": "2021-09-20T13:28:56.860Z"
   },
   {
    "duration": 3,
    "start_time": "2021-09-20T13:28:57.056Z"
   },
   {
    "duration": 117,
    "start_time": "2021-09-20T13:28:57.549Z"
   },
   {
    "duration": 8286,
    "start_time": "2021-09-20T13:28:58.055Z"
   },
   {
    "duration": 3,
    "start_time": "2021-09-20T13:29:06.344Z"
   },
   {
    "duration": 36,
    "start_time": "2021-09-20T13:29:06.350Z"
   },
   {
    "duration": 36,
    "start_time": "2021-09-20T13:29:06.388Z"
   },
   {
    "duration": 8,
    "start_time": "2021-09-20T13:29:06.425Z"
   },
   {
    "duration": 35,
    "start_time": "2021-09-20T13:29:06.434Z"
   },
   {
    "duration": 11,
    "start_time": "2021-09-20T13:29:06.471Z"
   },
   {
    "duration": 34,
    "start_time": "2021-09-20T13:29:06.484Z"
   },
   {
    "duration": 19,
    "start_time": "2021-09-20T13:29:06.520Z"
   },
   {
    "duration": 218,
    "start_time": "2021-09-20T13:29:06.541Z"
   },
   {
    "duration": 405,
    "start_time": "2021-09-20T13:29:06.761Z"
   },
   {
    "duration": 26893,
    "start_time": "2021-09-20T13:29:07.168Z"
   },
   {
    "duration": 195,
    "start_time": "2021-09-20T13:29:34.063Z"
   },
   {
    "duration": 1059,
    "start_time": "2021-09-20T13:29:34.260Z"
   },
   {
    "duration": -70,
    "start_time": "2021-09-20T13:29:35.391Z"
   },
   {
    "duration": -77,
    "start_time": "2021-09-20T13:29:35.399Z"
   },
   {
    "duration": -83,
    "start_time": "2021-09-20T13:29:35.406Z"
   },
   {
    "duration": -89,
    "start_time": "2021-09-20T13:29:35.413Z"
   },
   {
    "duration": -96,
    "start_time": "2021-09-20T13:29:35.421Z"
   },
   {
    "duration": -101,
    "start_time": "2021-09-20T13:29:35.427Z"
   },
   {
    "duration": -107,
    "start_time": "2021-09-20T13:29:35.434Z"
   },
   {
    "duration": -120,
    "start_time": "2021-09-20T13:29:35.448Z"
   },
   {
    "duration": -125,
    "start_time": "2021-09-20T13:29:35.454Z"
   },
   {
    "duration": 294,
    "start_time": "2021-09-20T13:31:00.821Z"
   },
   {
    "duration": 372,
    "start_time": "2021-09-20T13:31:07.002Z"
   },
   {
    "duration": 23,
    "start_time": "2021-09-20T13:31:46.304Z"
   },
   {
    "duration": 26,
    "start_time": "2021-09-20T13:31:53.083Z"
   },
   {
    "duration": 65,
    "start_time": "2021-09-20T13:32:21.612Z"
   },
   {
    "duration": 372,
    "start_time": "2021-09-20T13:32:25.180Z"
   },
   {
    "duration": 347,
    "start_time": "2021-09-20T13:32:47.409Z"
   },
   {
    "duration": 12,
    "start_time": "2021-09-20T13:32:50.548Z"
   },
   {
    "duration": 7,
    "start_time": "2021-09-20T13:32:51.385Z"
   },
   {
    "duration": 26,
    "start_time": "2021-09-20T13:32:53.374Z"
   },
   {
    "duration": 5,
    "start_time": "2021-09-20T13:32:54.137Z"
   },
   {
    "duration": 10,
    "start_time": "2021-09-20T13:32:54.530Z"
   },
   {
    "duration": 249,
    "start_time": "2021-09-20T13:32:55.164Z"
   },
   {
    "duration": 10,
    "start_time": "2021-09-20T13:32:56.133Z"
   },
   {
    "duration": 5,
    "start_time": "2021-09-20T13:32:56.955Z"
   },
   {
    "duration": 293,
    "start_time": "2021-09-20T13:33:26.102Z"
   },
   {
    "duration": 196,
    "start_time": "2021-09-20T13:33:33.721Z"
   },
   {
    "duration": 191,
    "start_time": "2021-09-20T13:33:38.481Z"
   },
   {
    "duration": 9,
    "start_time": "2021-09-20T13:33:41.727Z"
   },
   {
    "duration": 5,
    "start_time": "2021-09-20T13:33:42.537Z"
   },
   {
    "duration": 1270,
    "start_time": "2021-09-21T05:48:41.588Z"
   },
   {
    "duration": 29,
    "start_time": "2021-09-21T05:48:42.939Z"
   },
   {
    "duration": 17,
    "start_time": "2021-09-21T05:48:43.120Z"
   },
   {
    "duration": 8,
    "start_time": "2021-09-21T05:48:43.297Z"
   },
   {
    "duration": 17,
    "start_time": "2021-09-21T05:48:44.109Z"
   },
   {
    "duration": 4,
    "start_time": "2021-09-21T05:48:44.676Z"
   },
   {
    "duration": 10,
    "start_time": "2021-09-21T05:48:45.439Z"
   },
   {
    "duration": 8,
    "start_time": "2021-09-21T05:48:46.260Z"
   },
   {
    "duration": 30,
    "start_time": "2021-09-21T05:48:47.157Z"
   },
   {
    "duration": 611,
    "start_time": "2021-09-21T05:48:48.311Z"
   },
   {
    "duration": 13,
    "start_time": "2021-09-21T05:48:50.295Z"
   },
   {
    "duration": 11,
    "start_time": "2021-09-21T05:48:50.450Z"
   },
   {
    "duration": 6,
    "start_time": "2021-09-21T05:48:51.377Z"
   },
   {
    "duration": 9,
    "start_time": "2021-09-21T05:48:52.166Z"
   },
   {
    "duration": 9,
    "start_time": "2021-09-21T05:48:52.727Z"
   },
   {
    "duration": 4,
    "start_time": "2021-09-21T05:48:53.401Z"
   },
   {
    "duration": 4,
    "start_time": "2021-09-21T05:48:54.296Z"
   },
   {
    "duration": 8,
    "start_time": "2021-09-21T05:48:58.568Z"
   },
   {
    "duration": 2,
    "start_time": "2021-09-21T05:48:59.085Z"
   },
   {
    "duration": 39,
    "start_time": "2021-09-21T05:48:59.996Z"
   },
   {
    "duration": 2,
    "start_time": "2021-09-21T05:49:03.582Z"
   },
   {
    "duration": 22,
    "start_time": "2021-09-21T05:49:04.189Z"
   },
   {
    "duration": 3,
    "start_time": "2021-09-21T05:49:05.116Z"
   },
   {
    "duration": 101,
    "start_time": "2021-09-21T05:49:09.648Z"
   },
   {
    "duration": 112,
    "start_time": "2021-09-21T05:49:20.856Z"
   },
   {
    "duration": 76,
    "start_time": "2021-09-21T05:49:29.046Z"
   },
   {
    "duration": 7968,
    "start_time": "2021-09-21T05:49:38.638Z"
   },
   {
    "duration": 4,
    "start_time": "2021-09-21T05:50:21.789Z"
   },
   {
    "duration": 4,
    "start_time": "2021-09-21T05:50:22.389Z"
   },
   {
    "duration": 81,
    "start_time": "2021-09-21T05:51:12.439Z"
   },
   {
    "duration": 9,
    "start_time": "2021-09-21T05:53:25.159Z"
   },
   {
    "duration": 3,
    "start_time": "2021-09-21T05:53:25.991Z"
   },
   {
    "duration": 9,
    "start_time": "2021-09-21T05:53:27.859Z"
   },
   {
    "duration": 3,
    "start_time": "2021-09-21T05:53:28.544Z"
   },
   {
    "duration": 7,
    "start_time": "2021-09-21T05:53:33.373Z"
   },
   {
    "duration": 4,
    "start_time": "2021-09-21T05:53:43.010Z"
   },
   {
    "duration": 383,
    "start_time": "2021-09-21T05:53:57.418Z"
   },
   {
    "duration": 9,
    "start_time": "2021-09-21T05:55:38.793Z"
   },
   {
    "duration": 3,
    "start_time": "2021-09-21T05:55:39.363Z"
   },
   {
    "duration": 10,
    "start_time": "2021-09-21T05:55:40.885Z"
   },
   {
    "duration": 3,
    "start_time": "2021-09-21T05:55:41.443Z"
   },
   {
    "duration": 1054,
    "start_time": "2021-09-21T05:55:54.966Z"
   },
   {
    "duration": 29,
    "start_time": "2021-09-21T05:55:56.021Z"
   },
   {
    "duration": 13,
    "start_time": "2021-09-21T05:55:56.052Z"
   },
   {
    "duration": 8,
    "start_time": "2021-09-21T05:55:56.096Z"
   },
   {
    "duration": 13,
    "start_time": "2021-09-21T05:55:56.597Z"
   },
   {
    "duration": 4,
    "start_time": "2021-09-21T05:55:57.027Z"
   },
   {
    "duration": 11,
    "start_time": "2021-09-21T05:55:57.469Z"
   },
   {
    "duration": 7,
    "start_time": "2021-09-21T05:55:57.800Z"
   },
   {
    "duration": 31,
    "start_time": "2021-09-21T05:55:58.346Z"
   },
   {
    "duration": 574,
    "start_time": "2021-09-21T05:55:58.627Z"
   },
   {
    "duration": 13,
    "start_time": "2021-09-21T05:55:59.242Z"
   },
   {
    "duration": 10,
    "start_time": "2021-09-21T05:55:59.395Z"
   },
   {
    "duration": 5,
    "start_time": "2021-09-21T05:55:59.883Z"
   },
   {
    "duration": 8,
    "start_time": "2021-09-21T05:56:00.401Z"
   },
   {
    "duration": 8,
    "start_time": "2021-09-21T05:56:00.918Z"
   },
   {
    "duration": 4,
    "start_time": "2021-09-21T05:56:01.224Z"
   },
   {
    "duration": 5,
    "start_time": "2021-09-21T05:56:01.562Z"
   },
   {
    "duration": 8,
    "start_time": "2021-09-21T05:56:02.271Z"
   },
   {
    "duration": 3,
    "start_time": "2021-09-21T05:56:02.424Z"
   },
   {
    "duration": 37,
    "start_time": "2021-09-21T05:56:02.932Z"
   },
   {
    "duration": 2,
    "start_time": "2021-09-21T05:56:04.132Z"
   },
   {
    "duration": 22,
    "start_time": "2021-09-21T05:56:04.253Z"
   },
   {
    "duration": 3,
    "start_time": "2021-09-21T05:56:04.810Z"
   },
   {
    "duration": 106,
    "start_time": "2021-09-21T05:56:05.412Z"
   },
   {
    "duration": 8013,
    "start_time": "2021-09-21T05:56:09.404Z"
   },
   {
    "duration": 4,
    "start_time": "2021-09-21T05:56:17.419Z"
   },
   {
    "duration": 33,
    "start_time": "2021-09-21T05:56:17.425Z"
   },
   {
    "duration": 33,
    "start_time": "2021-09-21T05:56:17.460Z"
   },
   {
    "duration": 28,
    "start_time": "2021-09-21T05:56:17.494Z"
   },
   {
    "duration": 10,
    "start_time": "2021-09-21T05:56:21.537Z"
   },
   {
    "duration": 17,
    "start_time": "2021-09-21T05:56:21.549Z"
   },
   {
    "duration": 7,
    "start_time": "2021-09-21T05:56:26.191Z"
   },
   {
    "duration": 3,
    "start_time": "2021-09-21T05:56:30.439Z"
   },
   {
    "duration": 365,
    "start_time": "2021-09-21T05:56:33.679Z"
   },
   {
    "duration": 301,
    "start_time": "2021-09-21T05:56:53.514Z"
   },
   {
    "duration": 23170,
    "start_time": "2021-09-21T05:57:21.578Z"
   },
   {
    "duration": 270,
    "start_time": "2021-09-21T05:58:17.280Z"
   },
   {
    "duration": 64,
    "start_time": "2021-09-21T05:58:31.409Z"
   },
   {
    "duration": 584,
    "start_time": "2021-09-21T05:58:46.650Z"
   },
   {
    "duration": 5,
    "start_time": "2021-09-21T05:58:55.528Z"
   },
   {
    "duration": 7,
    "start_time": "2021-09-21T05:58:56.573Z"
   },
   {
    "duration": 5,
    "start_time": "2021-09-21T05:59:50.593Z"
   },
   {
    "duration": 7,
    "start_time": "2021-09-21T05:59:51.047Z"
   },
   {
    "duration": 5,
    "start_time": "2021-09-21T06:00:29.222Z"
   },
   {
    "duration": 7,
    "start_time": "2021-09-21T06:00:29.763Z"
   },
   {
    "duration": 20,
    "start_time": "2021-09-21T06:02:42.206Z"
   },
   {
    "duration": 5,
    "start_time": "2021-09-21T06:02:42.943Z"
   },
   {
    "duration": 10,
    "start_time": "2021-09-21T06:02:43.700Z"
   },
   {
    "duration": 185,
    "start_time": "2021-09-21T06:02:46.776Z"
   },
   {
    "duration": 9,
    "start_time": "2021-09-21T06:02:53.396Z"
   },
   {
    "duration": 254,
    "start_time": "2021-09-21T06:03:51.621Z"
   },
   {
    "duration": 9,
    "start_time": "2021-09-21T06:04:08.614Z"
   },
   {
    "duration": 5,
    "start_time": "2021-09-21T06:08:44.505Z"
   },
   {
    "duration": 1136,
    "start_time": "2021-09-21T06:32:00.699Z"
   },
   {
    "duration": 28,
    "start_time": "2021-09-21T06:32:01.837Z"
   },
   {
    "duration": 13,
    "start_time": "2021-09-21T06:32:01.866Z"
   },
   {
    "duration": 13,
    "start_time": "2021-09-21T06:32:01.881Z"
   },
   {
    "duration": 27,
    "start_time": "2021-09-21T06:32:01.902Z"
   },
   {
    "duration": 4,
    "start_time": "2021-09-21T06:32:02.334Z"
   },
   {
    "duration": 20,
    "start_time": "2021-09-21T06:32:02.740Z"
   },
   {
    "duration": 6,
    "start_time": "2021-09-21T06:32:03.047Z"
   },
   {
    "duration": 29,
    "start_time": "2021-09-21T06:32:03.505Z"
   },
   {
    "duration": 569,
    "start_time": "2021-09-21T06:32:03.900Z"
   },
   {
    "duration": 16,
    "start_time": "2021-09-21T06:32:04.472Z"
   },
   {
    "duration": 11,
    "start_time": "2021-09-21T06:32:04.614Z"
   },
   {
    "duration": 6,
    "start_time": "2021-09-21T06:32:05.053Z"
   },
   {
    "duration": 11,
    "start_time": "2021-09-21T06:32:05.509Z"
   },
   {
    "duration": 9,
    "start_time": "2021-09-21T06:32:05.866Z"
   },
   {
    "duration": 4,
    "start_time": "2021-09-21T06:32:06.241Z"
   },
   {
    "duration": 5,
    "start_time": "2021-09-21T06:32:06.563Z"
   },
   {
    "duration": 9,
    "start_time": "2021-09-21T06:32:07.021Z"
   },
   {
    "duration": 3,
    "start_time": "2021-09-21T06:32:07.153Z"
   },
   {
    "duration": 39,
    "start_time": "2021-09-21T06:32:07.312Z"
   },
   {
    "duration": 2,
    "start_time": "2021-09-21T06:32:08.084Z"
   },
   {
    "duration": 21,
    "start_time": "2021-09-21T06:32:08.222Z"
   },
   {
    "duration": 3,
    "start_time": "2021-09-21T06:32:08.445Z"
   },
   {
    "duration": 110,
    "start_time": "2021-09-21T06:32:08.799Z"
   },
   {
    "duration": 8184,
    "start_time": "2021-09-21T06:32:09.664Z"
   },
   {
    "duration": 4,
    "start_time": "2021-09-21T06:32:17.850Z"
   },
   {
    "duration": 6,
    "start_time": "2021-09-21T06:32:17.856Z"
   },
   {
    "duration": 14,
    "start_time": "2021-09-21T06:32:17.864Z"
   },
   {
    "duration": 3,
    "start_time": "2021-09-21T06:32:17.880Z"
   },
   {
    "duration": 13,
    "start_time": "2021-09-21T06:32:17.885Z"
   },
   {
    "duration": 3,
    "start_time": "2021-09-21T06:32:17.900Z"
   },
   {
    "duration": 8,
    "start_time": "2021-09-21T06:32:17.945Z"
   },
   {
    "duration": 11,
    "start_time": "2021-09-21T06:32:17.955Z"
   },
   {
    "duration": 277,
    "start_time": "2021-09-21T06:32:17.968Z"
   },
   {
    "duration": 441,
    "start_time": "2021-09-21T06:32:18.248Z"
   },
   {
    "duration": 23562,
    "start_time": "2021-09-21T06:32:18.690Z"
   },
   {
    "duration": 298,
    "start_time": "2021-09-21T06:32:42.254Z"
   },
   {
    "duration": 241,
    "start_time": "2021-09-21T06:32:42.554Z"
   },
   {
    "duration": 600,
    "start_time": "2021-09-21T06:32:42.796Z"
   },
   {
    "duration": 5,
    "start_time": "2021-09-21T06:32:43.398Z"
   },
   {
    "duration": 22,
    "start_time": "2021-09-21T06:32:43.404Z"
   },
   {
    "duration": 696,
    "start_time": "2021-09-21T06:32:43.427Z"
   },
   {
    "duration": 46,
    "start_time": "2021-09-21T06:32:44.079Z"
   },
   {
    "duration": 37,
    "start_time": "2021-09-21T06:32:44.089Z"
   },
   {
    "duration": 34,
    "start_time": "2021-09-21T06:32:44.093Z"
   },
   {
    "duration": 29,
    "start_time": "2021-09-21T06:32:44.099Z"
   },
   {
    "duration": 25,
    "start_time": "2021-09-21T06:32:44.104Z"
   },
   {
    "duration": 12,
    "start_time": "2021-09-21T06:33:07.855Z"
   },
   {
    "duration": 5,
    "start_time": "2021-09-21T06:33:09.563Z"
   },
   {
    "duration": 19,
    "start_time": "2021-09-21T06:33:10.812Z"
   },
   {
    "duration": 191,
    "start_time": "2021-09-21T06:33:13.249Z"
   },
   {
    "duration": 9,
    "start_time": "2021-09-21T06:33:20.349Z"
   },
   {
    "duration": 4,
    "start_time": "2021-09-21T06:33:59.500Z"
   }
  ],
  "kernelspec": {
   "display_name": "Python 3",
   "language": "python",
   "name": "python3"
  },
  "language_info": {
   "codemirror_mode": {
    "name": "ipython",
    "version": 3
   },
   "file_extension": ".py",
   "mimetype": "text/x-python",
   "name": "python",
   "nbconvert_exporter": "python",
   "pygments_lexer": "ipython3",
   "version": "3.8.5"
  },
  "toc": {
   "base_numbering": 1,
   "nav_menu": {},
   "number_sections": true,
   "sideBar": true,
   "skip_h1_title": true,
   "title_cell": "Содержание",
   "title_sidebar": "Contents",
   "toc_cell": true,
   "toc_position": {
    "height": "calc(100% - 180px)",
    "left": "10px",
    "top": "150px",
    "width": "342.391px"
   },
   "toc_section_display": true,
   "toc_window_display": true
  }
 },
 "nbformat": 4,
 "nbformat_minor": 2
}
